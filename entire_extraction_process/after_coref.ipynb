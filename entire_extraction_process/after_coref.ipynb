{
  "nbformat": 4,
  "nbformat_minor": 0,
  "metadata": {
    "colab": {
      "provenance": [],
      "machine_shape": "hm"
    },
    "kernelspec": {
      "name": "python3",
      "display_name": "Python 3"
    },
    "language_info": {
      "name": "python"
    }
  },
  "cells": [
    {
      "cell_type": "code",
      "source": [
        "from google.colab import drive\n",
        "drive.mount('/content/drive')"
      ],
      "metadata": {
        "colab": {
          "base_uri": "https://localhost:8080/"
        },
        "id": "pNH1wvQ8HQeg",
        "outputId": "13d92885-0a93-4188-e61e-ec63cbf85020"
      },
      "execution_count": 1,
      "outputs": [
        {
          "output_type": "stream",
          "name": "stdout",
          "text": [
            "Mounted at /content/drive\n"
          ]
        }
      ]
    },
    {
      "cell_type": "code",
      "source": [
        "cd '/content/drive/MyDrive/wiki_people'"
      ],
      "metadata": {
        "colab": {
          "base_uri": "https://localhost:8080/"
        },
        "id": "xdFZZ9ZCsr-G",
        "outputId": "23ae3dd8-ae32-4a66-bb29-73be29f06a32"
      },
      "execution_count": 2,
      "outputs": [
        {
          "output_type": "stream",
          "name": "stdout",
          "text": [
            "/content/drive/MyDrive/wiki_people\n"
          ]
        }
      ]
    },
    {
      "cell_type": "code",
      "source": [
        "!git clone https://github.com/Seoyeon-An/wiki_people"
      ],
      "metadata": {
        "colab": {
          "base_uri": "https://localhost:8080/"
        },
        "id": "DfMGLAqos22n",
        "outputId": "92e0e80d-7965-4052-e194-13a0c09e23ff"
      },
      "execution_count": 3,
      "outputs": [
        {
          "output_type": "stream",
          "name": "stdout",
          "text": [
            "Cloning into 'wiki_people'...\n",
            "remote: Enumerating objects: 450, done.\u001b[K\n",
            "remote: Counting objects: 100% (277/277), done.\u001b[K\n",
            "remote: Compressing objects: 100% (243/243), done.\u001b[K\n",
            "remote: Total 450 (delta 48), reused 224 (delta 26), pack-reused 173\u001b[K\n",
            "Receiving objects: 100% (450/450), 38.31 MiB | 17.03 MiB/s, done.\n",
            "Resolving deltas: 100% (117/117), done.\n",
            "Updating files: 100% (201/201), done.\n"
          ]
        }
      ]
    },
    {
      "cell_type": "code",
      "execution_count": null,
      "metadata": {
        "colab": {
          "base_uri": "https://localhost:8080/"
        },
        "id": "OFFfXdugxu8B",
        "outputId": "7cff7160-6e97-4d4d-88da-74d7137161a1"
      },
      "outputs": [
        {
          "output_type": "stream",
          "name": "stdout",
          "text": [
            "fatal: not a git repository (or any of the parent directories): .git\n"
          ]
        }
      ],
      "source": [
        "!git pull origin main"
      ]
    },
    {
      "cell_type": "code",
      "source": [
        "cd 'wiki_people/entire_extraction_process/'"
      ],
      "metadata": {
        "colab": {
          "base_uri": "https://localhost:8080/"
        },
        "id": "_3SNoOQIuhi9",
        "outputId": "00f48e9c-2bb6-47c5-fb39-676eb73a1953"
      },
      "execution_count": 4,
      "outputs": [
        {
          "output_type": "stream",
          "name": "stdout",
          "text": [
            "/content/drive/MyDrive/wiki_people/wiki_people/entire_extraction_process\n"
          ]
        }
      ]
    },
    {
      "cell_type": "code",
      "execution_count": 5,
      "metadata": {
        "id": "Lk6bzy35mIxu"
      },
      "outputs": [],
      "source": [
        "import config"
      ]
    },
    {
      "cell_type": "code",
      "execution_count": null,
      "metadata": {
        "id": "MEtTmODjmMYR"
      },
      "outputs": [],
      "source": [
        "# !pip install spacy\n",
        "# !python -m spacy download en\n",
        "# !pip install allennlp\n",
        "# !pip install allennlp-models"
      ]
    },
    {
      "cell_type": "code",
      "execution_count": 6,
      "metadata": {
        "id": "CKdsmXdSpOGi",
        "colab": {
          "base_uri": "https://localhost:8080/"
        },
        "outputId": "7e80c4ec-76b4-43ce-ce5b-2eb33c368879"
      },
      "outputs": [
        {
          "output_type": "stream",
          "name": "stdout",
          "text": [
            "2023-11-26 05:46:02.411422: E tensorflow/compiler/xla/stream_executor/cuda/cuda_dnn.cc:9342] Unable to register cuDNN factory: Attempting to register factory for plugin cuDNN when one has already been registered\n",
            "2023-11-26 05:46:02.411491: E tensorflow/compiler/xla/stream_executor/cuda/cuda_fft.cc:609] Unable to register cuFFT factory: Attempting to register factory for plugin cuFFT when one has already been registered\n",
            "2023-11-26 05:46:02.411523: E tensorflow/compiler/xla/stream_executor/cuda/cuda_blas.cc:1518] Unable to register cuBLAS factory: Attempting to register factory for plugin cuBLAS when one has already been registered\n",
            "2023-11-26 05:46:02.421530: I tensorflow/core/platform/cpu_feature_guard.cc:182] This TensorFlow binary is optimized to use available CPU instructions in performance-critical operations.\n",
            "To enable the following instructions: AVX2 FMA, in other operations, rebuild TensorFlow with the appropriate compiler flags.\n",
            "2023-11-26 05:46:03.720534: W tensorflow/compiler/tf2tensorrt/utils/py_utils.cc:38] TF-TRT Warning: Could not find TensorRT\n",
            "Collecting en-core-web-trf==3.6.1\n",
            "  Downloading https://github.com/explosion/spacy-models/releases/download/en_core_web_trf-3.6.1/en_core_web_trf-3.6.1-py3-none-any.whl (460.3 MB)\n",
            "\u001b[2K     \u001b[90m━━━━━━━━━━━━━━━━━━━━━━━━━━━━━━━━━━━━━━━━\u001b[0m \u001b[32m460.3/460.3 MB\u001b[0m \u001b[31m2.0 MB/s\u001b[0m eta \u001b[36m0:00:00\u001b[0m\n",
            "\u001b[?25hRequirement already satisfied: spacy<3.7.0,>=3.6.0 in /usr/local/lib/python3.10/dist-packages (from en-core-web-trf==3.6.1) (3.6.1)\n",
            "Collecting spacy-transformers<1.3.0,>=1.2.2 (from en-core-web-trf==3.6.1)\n",
            "  Downloading spacy_transformers-1.2.5-cp310-cp310-manylinux_2_17_x86_64.manylinux2014_x86_64.whl (190 kB)\n",
            "\u001b[2K     \u001b[90m━━━━━━━━━━━━━━━━━━━━━━━━━━━━━━━━━━━━━━━━\u001b[0m \u001b[32m190.8/190.8 kB\u001b[0m \u001b[31m3.3 MB/s\u001b[0m eta \u001b[36m0:00:00\u001b[0m\n",
            "\u001b[?25hRequirement already satisfied: spacy-legacy<3.1.0,>=3.0.11 in /usr/local/lib/python3.10/dist-packages (from spacy<3.7.0,>=3.6.0->en-core-web-trf==3.6.1) (3.0.12)\n",
            "Requirement already satisfied: spacy-loggers<2.0.0,>=1.0.0 in /usr/local/lib/python3.10/dist-packages (from spacy<3.7.0,>=3.6.0->en-core-web-trf==3.6.1) (1.0.5)\n",
            "Requirement already satisfied: murmurhash<1.1.0,>=0.28.0 in /usr/local/lib/python3.10/dist-packages (from spacy<3.7.0,>=3.6.0->en-core-web-trf==3.6.1) (1.0.10)\n",
            "Requirement already satisfied: cymem<2.1.0,>=2.0.2 in /usr/local/lib/python3.10/dist-packages (from spacy<3.7.0,>=3.6.0->en-core-web-trf==3.6.1) (2.0.8)\n",
            "Requirement already satisfied: preshed<3.1.0,>=3.0.2 in /usr/local/lib/python3.10/dist-packages (from spacy<3.7.0,>=3.6.0->en-core-web-trf==3.6.1) (3.0.9)\n",
            "Requirement already satisfied: thinc<8.2.0,>=8.1.8 in /usr/local/lib/python3.10/dist-packages (from spacy<3.7.0,>=3.6.0->en-core-web-trf==3.6.1) (8.1.12)\n",
            "Requirement already satisfied: wasabi<1.2.0,>=0.9.1 in /usr/local/lib/python3.10/dist-packages (from spacy<3.7.0,>=3.6.0->en-core-web-trf==3.6.1) (1.1.2)\n",
            "Requirement already satisfied: srsly<3.0.0,>=2.4.3 in /usr/local/lib/python3.10/dist-packages (from spacy<3.7.0,>=3.6.0->en-core-web-trf==3.6.1) (2.4.8)\n",
            "Requirement already satisfied: catalogue<2.1.0,>=2.0.6 in /usr/local/lib/python3.10/dist-packages (from spacy<3.7.0,>=3.6.0->en-core-web-trf==3.6.1) (2.0.10)\n",
            "Requirement already satisfied: typer<0.10.0,>=0.3.0 in /usr/local/lib/python3.10/dist-packages (from spacy<3.7.0,>=3.6.0->en-core-web-trf==3.6.1) (0.9.0)\n",
            "Requirement already satisfied: pathy>=0.10.0 in /usr/local/lib/python3.10/dist-packages (from spacy<3.7.0,>=3.6.0->en-core-web-trf==3.6.1) (0.10.3)\n",
            "Requirement already satisfied: smart-open<7.0.0,>=5.2.1 in /usr/local/lib/python3.10/dist-packages (from spacy<3.7.0,>=3.6.0->en-core-web-trf==3.6.1) (6.4.0)\n",
            "Requirement already satisfied: tqdm<5.0.0,>=4.38.0 in /usr/local/lib/python3.10/dist-packages (from spacy<3.7.0,>=3.6.0->en-core-web-trf==3.6.1) (4.66.1)\n",
            "Requirement already satisfied: numpy>=1.15.0 in /usr/local/lib/python3.10/dist-packages (from spacy<3.7.0,>=3.6.0->en-core-web-trf==3.6.1) (1.23.5)\n",
            "Requirement already satisfied: requests<3.0.0,>=2.13.0 in /usr/local/lib/python3.10/dist-packages (from spacy<3.7.0,>=3.6.0->en-core-web-trf==3.6.1) (2.31.0)\n",
            "Requirement already satisfied: pydantic!=1.8,!=1.8.1,<3.0.0,>=1.7.4 in /usr/local/lib/python3.10/dist-packages (from spacy<3.7.0,>=3.6.0->en-core-web-trf==3.6.1) (1.10.13)\n",
            "Requirement already satisfied: jinja2 in /usr/local/lib/python3.10/dist-packages (from spacy<3.7.0,>=3.6.0->en-core-web-trf==3.6.1) (3.1.2)\n",
            "Requirement already satisfied: setuptools in /usr/local/lib/python3.10/dist-packages (from spacy<3.7.0,>=3.6.0->en-core-web-trf==3.6.1) (67.7.2)\n",
            "Requirement already satisfied: packaging>=20.0 in /usr/local/lib/python3.10/dist-packages (from spacy<3.7.0,>=3.6.0->en-core-web-trf==3.6.1) (23.2)\n",
            "Requirement already satisfied: langcodes<4.0.0,>=3.2.0 in /usr/local/lib/python3.10/dist-packages (from spacy<3.7.0,>=3.6.0->en-core-web-trf==3.6.1) (3.3.0)\n",
            "Collecting transformers<4.31.0,>=3.4.0 (from spacy-transformers<1.3.0,>=1.2.2->en-core-web-trf==3.6.1)\n",
            "  Downloading transformers-4.30.2-py3-none-any.whl (7.2 MB)\n",
            "\u001b[2K     \u001b[90m━━━━━━━━━━━━━━━━━━━━━━━━━━━━━━━━━━━━━━━━\u001b[0m \u001b[32m7.2/7.2 MB\u001b[0m \u001b[31m95.1 MB/s\u001b[0m eta \u001b[36m0:00:00\u001b[0m\n",
            "\u001b[?25hRequirement already satisfied: torch>=1.8.0 in /usr/local/lib/python3.10/dist-packages (from spacy-transformers<1.3.0,>=1.2.2->en-core-web-trf==3.6.1) (2.1.0+cu118)\n",
            "Collecting spacy-alignments<1.0.0,>=0.7.2 (from spacy-transformers<1.3.0,>=1.2.2->en-core-web-trf==3.6.1)\n",
            "  Downloading spacy_alignments-0.9.1-cp310-cp310-manylinux_2_17_x86_64.manylinux2014_x86_64.whl (313 kB)\n",
            "\u001b[2K     \u001b[90m━━━━━━━━━━━━━━━━━━━━━━━━━━━━━━━━━━━━━━━━\u001b[0m \u001b[32m314.0/314.0 kB\u001b[0m \u001b[31m33.9 MB/s\u001b[0m eta \u001b[36m0:00:00\u001b[0m\n",
            "\u001b[?25hRequirement already satisfied: typing-extensions>=4.2.0 in /usr/local/lib/python3.10/dist-packages (from pydantic!=1.8,!=1.8.1,<3.0.0,>=1.7.4->spacy<3.7.0,>=3.6.0->en-core-web-trf==3.6.1) (4.5.0)\n",
            "Requirement already satisfied: charset-normalizer<4,>=2 in /usr/local/lib/python3.10/dist-packages (from requests<3.0.0,>=2.13.0->spacy<3.7.0,>=3.6.0->en-core-web-trf==3.6.1) (3.3.2)\n",
            "Requirement already satisfied: idna<4,>=2.5 in /usr/local/lib/python3.10/dist-packages (from requests<3.0.0,>=2.13.0->spacy<3.7.0,>=3.6.0->en-core-web-trf==3.6.1) (3.4)\n",
            "Requirement already satisfied: urllib3<3,>=1.21.1 in /usr/local/lib/python3.10/dist-packages (from requests<3.0.0,>=2.13.0->spacy<3.7.0,>=3.6.0->en-core-web-trf==3.6.1) (2.0.7)\n",
            "Requirement already satisfied: certifi>=2017.4.17 in /usr/local/lib/python3.10/dist-packages (from requests<3.0.0,>=2.13.0->spacy<3.7.0,>=3.6.0->en-core-web-trf==3.6.1) (2023.7.22)\n",
            "Requirement already satisfied: blis<0.8.0,>=0.7.8 in /usr/local/lib/python3.10/dist-packages (from thinc<8.2.0,>=8.1.8->spacy<3.7.0,>=3.6.0->en-core-web-trf==3.6.1) (0.7.11)\n",
            "Requirement already satisfied: confection<1.0.0,>=0.0.1 in /usr/local/lib/python3.10/dist-packages (from thinc<8.2.0,>=8.1.8->spacy<3.7.0,>=3.6.0->en-core-web-trf==3.6.1) (0.1.3)\n",
            "Requirement already satisfied: filelock in /usr/local/lib/python3.10/dist-packages (from torch>=1.8.0->spacy-transformers<1.3.0,>=1.2.2->en-core-web-trf==3.6.1) (3.13.1)\n",
            "Requirement already satisfied: sympy in /usr/local/lib/python3.10/dist-packages (from torch>=1.8.0->spacy-transformers<1.3.0,>=1.2.2->en-core-web-trf==3.6.1) (1.12)\n",
            "Requirement already satisfied: networkx in /usr/local/lib/python3.10/dist-packages (from torch>=1.8.0->spacy-transformers<1.3.0,>=1.2.2->en-core-web-trf==3.6.1) (3.2.1)\n",
            "Requirement already satisfied: fsspec in /usr/local/lib/python3.10/dist-packages (from torch>=1.8.0->spacy-transformers<1.3.0,>=1.2.2->en-core-web-trf==3.6.1) (2023.6.0)\n",
            "Requirement already satisfied: triton==2.1.0 in /usr/local/lib/python3.10/dist-packages (from torch>=1.8.0->spacy-transformers<1.3.0,>=1.2.2->en-core-web-trf==3.6.1) (2.1.0)\n",
            "Requirement already satisfied: huggingface-hub<1.0,>=0.14.1 in /usr/local/lib/python3.10/dist-packages (from transformers<4.31.0,>=3.4.0->spacy-transformers<1.3.0,>=1.2.2->en-core-web-trf==3.6.1) (0.19.4)\n",
            "Requirement already satisfied: pyyaml>=5.1 in /usr/local/lib/python3.10/dist-packages (from transformers<4.31.0,>=3.4.0->spacy-transformers<1.3.0,>=1.2.2->en-core-web-trf==3.6.1) (6.0.1)\n",
            "Requirement already satisfied: regex!=2019.12.17 in /usr/local/lib/python3.10/dist-packages (from transformers<4.31.0,>=3.4.0->spacy-transformers<1.3.0,>=1.2.2->en-core-web-trf==3.6.1) (2023.6.3)\n",
            "Collecting tokenizers!=0.11.3,<0.14,>=0.11.1 (from transformers<4.31.0,>=3.4.0->spacy-transformers<1.3.0,>=1.2.2->en-core-web-trf==3.6.1)\n",
            "  Downloading tokenizers-0.13.3-cp310-cp310-manylinux_2_17_x86_64.manylinux2014_x86_64.whl (7.8 MB)\n",
            "\u001b[2K     \u001b[90m━━━━━━━━━━━━━━━━━━━━━━━━━━━━━━━━━━━━━━━━\u001b[0m \u001b[32m7.8/7.8 MB\u001b[0m \u001b[31m83.8 MB/s\u001b[0m eta \u001b[36m0:00:00\u001b[0m\n",
            "\u001b[?25hRequirement already satisfied: safetensors>=0.3.1 in /usr/local/lib/python3.10/dist-packages (from transformers<4.31.0,>=3.4.0->spacy-transformers<1.3.0,>=1.2.2->en-core-web-trf==3.6.1) (0.4.0)\n",
            "Requirement already satisfied: click<9.0.0,>=7.1.1 in /usr/local/lib/python3.10/dist-packages (from typer<0.10.0,>=0.3.0->spacy<3.7.0,>=3.6.0->en-core-web-trf==3.6.1) (8.1.7)\n",
            "Requirement already satisfied: MarkupSafe>=2.0 in /usr/local/lib/python3.10/dist-packages (from jinja2->spacy<3.7.0,>=3.6.0->en-core-web-trf==3.6.1) (2.1.3)\n",
            "Requirement already satisfied: mpmath>=0.19 in /usr/local/lib/python3.10/dist-packages (from sympy->torch>=1.8.0->spacy-transformers<1.3.0,>=1.2.2->en-core-web-trf==3.6.1) (1.3.0)\n",
            "Installing collected packages: tokenizers, spacy-alignments, transformers, spacy-transformers, en-core-web-trf\n",
            "  Attempting uninstall: tokenizers\n",
            "    Found existing installation: tokenizers 0.15.0\n",
            "    Uninstalling tokenizers-0.15.0:\n",
            "      Successfully uninstalled tokenizers-0.15.0\n",
            "  Attempting uninstall: transformers\n",
            "    Found existing installation: transformers 4.35.2\n",
            "    Uninstalling transformers-4.35.2:\n",
            "      Successfully uninstalled transformers-4.35.2\n",
            "Successfully installed en-core-web-trf-3.6.1 spacy-alignments-0.9.1 spacy-transformers-1.2.5 tokenizers-0.13.3 transformers-4.30.2\n",
            "\u001b[38;5;2m✔ Download and installation successful\u001b[0m\n",
            "You can now load the package via spacy.load('en_core_web_trf')\n"
          ]
        }
      ],
      "source": [
        "!python -m spacy download en_core_web_trf"
      ]
    },
    {
      "cell_type": "code",
      "execution_count": 7,
      "metadata": {
        "id": "GQNoktVypqTl"
      },
      "outputs": [],
      "source": [
        "import spacy"
      ]
    },
    {
      "cell_type": "code",
      "execution_count": null,
      "metadata": {
        "id": "nYMh3yhBsIut"
      },
      "outputs": [],
      "source": [
        "# !pip install spacy-transformers"
      ]
    },
    {
      "cell_type": "code",
      "execution_count": null,
      "metadata": {
        "id": "NZRCBkUosgLj"
      },
      "outputs": [],
      "source": [
        "# import spacy_transformers"
      ]
    },
    {
      "cell_type": "code",
      "execution_count": 8,
      "metadata": {
        "id": "8apTj9m6k8-B"
      },
      "outputs": [],
      "source": [
        "#import coref_tag\n",
        "import selecting_subject\n",
        "import year_sentence\n",
        "import category_tagger\n",
        "import main_ver1\n"
      ]
    },
    {
      "cell_type": "code",
      "execution_count": null,
      "metadata": {
        "id": "0t7IWMzXuqP7",
        "colab": {
          "base_uri": "https://localhost:8080/"
        },
        "outputId": "581189f5-249c-4a1a-b5f8-4d77ca1a113b"
      },
      "outputs": [
        {
          "output_type": "stream",
          "name": "stderr",
          "text": [
            "Some weights of BertModel were not initialized from the model checkpoint at SpanBERT/spanbert-large-cased and are newly initialized: ['bert.pooler.dense.bias', 'bert.pooler.dense.weight']\n",
            "You should probably TRAIN this model on a down-stream task to be able to use it for predictions and inference.\n"
          ]
        }
      ],
      "source": [
        "# import coref_tag_v2"
      ]
    },
    {
      "cell_type": "code",
      "execution_count": 9,
      "metadata": {
        "id": "VLXgkjeu36vi"
      },
      "outputs": [],
      "source": [
        "import json"
      ]
    },
    {
      "cell_type": "code",
      "source": [
        "from os import listdir\n",
        "from os.path import isfile, join\n",
        "\n",
        "mypath = '/content/drive/MyDrive/wiki_people/wiki_people/data/coref_output'\n",
        "onlyfiles = [f for f in listdir(mypath) if isfile(join(mypath, f))]"
      ],
      "metadata": {
        "id": "FqxmpU-XLb0C"
      },
      "execution_count": 10,
      "outputs": []
    },
    {
      "cell_type": "code",
      "source": [
        "file_lst = onlyfiles[1:len(onlyfiles)-3]"
      ],
      "metadata": {
        "id": "5j8ZzoDTLkJF"
      },
      "execution_count": 16,
      "outputs": []
    },
    {
      "cell_type": "code",
      "source": [
        "len(file_lst)"
      ],
      "metadata": {
        "colab": {
          "base_uri": "https://localhost:8080/"
        },
        "id": "ze_C3r2tPTFa",
        "outputId": "9b7e3d9e-a736-4d72-aeca-4fdd359d7993"
      },
      "execution_count": 18,
      "outputs": [
        {
          "output_type": "execute_result",
          "data": {
            "text/plain": [
              "162"
            ]
          },
          "metadata": {},
          "execution_count": 18
        }
      ]
    },
    {
      "cell_type": "code",
      "source": [
        "import pandas"
      ],
      "metadata": {
        "id": "te-tZz_WSjhr"
      },
      "execution_count": 42,
      "outputs": []
    },
    {
      "cell_type": "code",
      "source": [
        "def all_process(one_person_dict, name):\n",
        "\n",
        "  result_dict = {}\n",
        "\n",
        "  for k, v in one_person_dict.items(): # k: 대분류, v: 중분류 이하 dict\n",
        "    result_dict[f\"{k}\"] = {}\n",
        "\n",
        "    for k2, v2 in v.items():\n",
        "        temp =  selecting_subject.select_subject(v2)\n",
        "        temp_2 = year_sentence.year_extraction(temp)\n",
        "\n",
        "        for i in range(len(temp_2)):\n",
        "          temp_2[i] = temp_2[i].replace('[0]', name)\n",
        "\n",
        "        result_dict[f\"{k}\"][f\"{k2}\"] = temp_2\n",
        "\n",
        "  return result_dict"
      ],
      "metadata": {
        "id": "beqkVTWmMwCV"
      },
      "execution_count": 57,
      "outputs": []
    },
    {
      "cell_type": "code",
      "source": [
        "def make_df(one_result_dict):\n",
        "\n",
        "  birth_year = int(input())\n",
        "  rows = []\n",
        "  result_df = pd.DataFrame(columns=['year', 'age', 'event', 'category1', 'category2'])\n",
        "\n",
        "  for k, v in one_result_dict.items():\n",
        "    for k2, v2 in v.items():\n",
        "      for i in range(len(v2)):\n",
        "        year_ = year_sentence.only_year_extraction(v2[i])\n",
        "        age_ = int(year_) - birth_year\n",
        "        row = [year_, age_, v2[i], k, k2]\n",
        "        rows.append(row)\n",
        "\n",
        "  result_df = pd.DataFrame(rows, columns=['year', 'age', 'event', 'category1', 'category2'])\n",
        "  return result_df"
      ],
      "metadata": {
        "id": "xs_oWURiV2cJ"
      },
      "execution_count": 83,
      "outputs": []
    },
    {
      "cell_type": "code",
      "source": [
        "for f in file_lst:\n",
        "  filepath = '/content/drive/MyDrive/wiki_people/wiki_people/data/coref_output/' + f\n",
        "  current_name = f[:-11].rstrip()\n",
        "  with open(filepath, 'r') as file:\n",
        "    current_json = json.load(file)\n",
        "\n",
        "  print(current_name)\n",
        "  temp_json = all_process(current_json, current_name)\n",
        "  final_df = make_df(temp_json)\n",
        "  savepath = '/content/drive/MyDrive/wiki_people/wiki_people/data/final_df/' + current_name + '.csv'\n",
        "  final_df.to_csv(savepath, index=False)"
      ],
      "metadata": {
        "colab": {
          "base_uri": "https://localhost:8080/"
        },
        "id": "V4Ionf9oa5x6",
        "outputId": "d1fef1bf-518d-4c9e-8bb6-5318759739d2"
      },
      "execution_count": 91,
      "outputs": [
        {
          "name": "stdout",
          "output_type": "stream",
          "text": [
            "14th Dalai Lama\n",
            "1935\n",
            "Abbe Pierre\n",
            "1912\n",
            "Adele\n",
            "1988\n",
            "Adolf Hitler\n",
            "1889\n",
            "Al Capone\n",
            "1899\n",
            "Albert Einstein\n",
            "1879\n",
            "Alec Guinness\n",
            "1914\n",
            "Alexander Fleming\n",
            "1881\n",
            "Alfred Hitchcock\n",
            "1899\n",
            "Angela Merkel\n",
            "1954\n",
            "Anne Frank\n",
            "1929\n",
            "Aryton Senna\n",
            "1960\n",
            "Ataturk\n",
            "1881\n",
            "Audrey Hepburn\n",
            "1929\n",
            "Aung San Suu Kyi\n",
            "1945\n",
            "Babe Ruth\n",
            "1895\n",
            "Barack Obama\n",
            "1961\n",
            "Beatrix Potter\n",
            "1866\n",
            "Benazir Bhutto\n",
            "1953\n",
            "Benjamin Netanyahu\n",
            "1949\n",
            "Bernard Montgomery\n",
            "1887\n",
            "Beyonce\n",
            "1981\n",
            "Bill Gates\n",
            "1955\n",
            "Bill Gates\n",
            "1955\n",
            "Billie Holiday\n",
            "1915\n",
            "Billie Jean King\n",
            "1943\n",
            "Bob Geldof\n",
            "1951\n",
            "Bob Iger\n",
            "1951\n",
            "Bobby Moore\n",
            "1941\n",
            "Boris Yeltsin\n",
            "1931\n",
            "Brad Pitt\n",
            "1963\n",
            "C.S. Lewis\n",
            "1898\n",
            "Carl Lewis\n",
            "1961\n",
            "Catherine, Princess of Wales\n",
            "1982\n",
            "Charles Koch\n",
            "1935\n",
            "Charles de Gaulle\n",
            "1890\n",
            "Cliff Richard\n",
            "1940\n",
            "Coco Chanel\n",
            "1883\n",
            "Condoleezza Rice\n",
            "1954\n",
            "Dalai Lama\n",
            "1935\n",
            "David Beckham\n",
            "1975\n",
            "David Hockney\n",
            "1937\n",
            "David Koch\n",
            "1940\n",
            "Desmond Tutu\n",
            "1931\n",
            "Douglas Haig\n",
            "1861\n",
            "Dwight Eisenhower\n",
            "1890\n",
            "Edvard Munch\n",
            "1863\n",
            "Eleanor Roosevelt\n",
            "1884\n",
            "Elizabeth Warren\n",
            "1949\n",
            "Elton John\n",
            "1947\n",
            "Elvis Presley\n",
            "1935\n",
            "Enrico Fermi\n",
            "1901\n",
            "Ernest Hemingway\n",
            "1899\n",
            "Eva Peron\n",
            "1919\n",
            "Franklin D. Roosevelt\n",
            "1882\n",
            "Gabriela Mistral\n",
            "1889\n",
            "General Patton\n",
            "1885\n",
            "George Harrison\n",
            "1943\n",
            "George Orwell\n",
            "1903\n",
            "Germaine Greer\n",
            "1939\n",
            "Henry Ford\n",
            "1863\n",
            "Hilary Clinton\n",
            "1947\n",
            "Hillary Clinton\n",
            "1947\n",
            "Hu Jintao\n",
            "1942\n",
            "Indira Gandhi\n",
            "1917\n",
            "J.K.Rowling\n",
            "1965\n",
            "J.R.R.Tolkien\n",
            "1892\n",
            "Jacqueline Kennedy Onassis\n",
            "1929\n",
            "Janet Yellen\n",
            "1946\n",
            "Jawaharlal Nehru\n",
            "1889\n",
            "Jeff Bezos\n",
            "1964\n",
            "Jesse Owens\n",
            "1913\n",
            "Joe Biden\n",
            "1942\n",
            "John F Kennedy\n",
            "1917\n",
            "John Kerry\n",
            "1943\n",
            "John Lennon\n",
            "1940\n",
            "John Logie Baird\n",
            "1888\n",
            "John Maynard Keynes\n",
            "1883\n",
            "John Paul II\n",
            "1920\n",
            "John Roberts\n",
            "1955\n",
            "John Steinbeck\n",
            "1902\n",
            "Joseph Stalin\n",
            "1878\n",
            "Julie Andrews\n",
            "1935\n",
            "Kamala Harris\n",
            "1964\n",
            "Katherine Hepburn\n",
            "1907\n",
            "Kofi Annan\n",
            "1938\n",
            "Larry Page\n",
            "1973\n",
            "LeBron James\n",
            "1984\n",
            "Lewis Hamilton\n",
            "1985\n",
            "Lionel Messi\n",
            "1987\n",
            "Lord Baden Powell\n",
            "1857\n",
            "Luiz In쟠io Lula da Silva\n",
            "1945\n",
            "Lyndon Johnson\n",
            "1908\n",
            "Ma Huateng\n",
            "1971\n",
            "Madonna\n",
            "1958\n",
            "Maharishi Mahesh Yogi\n",
            "1918\n",
            "Mahatma Gandhi\n",
            "1869\n",
            "Malala Yousafzai\n",
            "1997\n",
            "Malcolm X\n",
            "1925\n",
            "Margaret Thatcher\n",
            "1925\n",
            "Marie Curie\n",
            "1867\n",
            "Marilyn Monroe\n",
            "1926\n",
            "Mario Draghi\n",
            "1947\n",
            "Mark Zuckerberg\n",
            "1984\n",
            "Martin Luther King\n",
            "1929\n",
            "Michael Caine\n",
            "1933\n",
            "Michael Jackson\n",
            "1958\n",
            "Michael Jordan\n",
            "1963\n",
            "Michael Moore\n",
            "1954\n",
            "Michelle Obama\n",
            "1964\n",
            "Mikhail Gorbachev\n",
            "1931\n",
            "Mother Teresa\n",
            "1910\n",
            "Muhammed Ali\n",
            "1942\n",
            "Muqtada al-Sadr\n",
            "1974\n",
            "Naomi Osaka\n",
            "1997\n",
            "Neil Armstrong\n",
            "1930\n",
            "Nelson Mandela\n",
            "1918\n",
            "Nelson Mandela\n",
            "1918\n",
            "Nikola Tesla\n",
            "1856\n",
            "Oprah Winfrey\n",
            "1954\n",
            "Oscar Wilde\n",
            "1854\n",
            "Pablo Picasso\n",
            "1881\n",
            "Paramahansa Yogananda\n",
            "1893\n",
            "Paul McCartney\n",
            "1942\n",
            "Pele\n",
            "1940\n",
            "Peter Sellers\n",
            "1925\n",
            "Pope Benedict XVI\n",
            "1927\n",
            "Pope Francis\n",
            "1936\n",
            "Princess Diana\n",
            "1961\n",
            "Raisa Gorbachev\n",
            "1932\n",
            "Recep Tayyip Erdogan\n",
            "1954\n",
            "Ren Zhengfei\n",
            "1944\n",
            "Richard Attenborough\n",
            "1923\n",
            "Richard Branson\n",
            "1950\n",
            "Richard Burton\n",
            "1925\n",
            "Roger Bannister\n",
            "1929\n",
            "Ronald Reagan\n",
            "1911\n",
            "Rosa Parks\n",
            "1913\n",
            "Rupert Murdoch\n",
            "1931\n",
            "Sachin Tendulkar\n",
            "1973\n",
            "Salvador Dali\n",
            "1904\n",
            "Shonda Rhimes\n",
            "1970\n",
            "Sir Charlie Chaplin\n",
            "1889\n",
            "Sir Donald Bradman\n",
            "1908\n",
            "Sri Aurobindo\n",
            "1872\n",
            "Stephen Hawking\n",
            "1942\n",
            "Steve Jobs\n",
            "1955\n",
            "T.E. Lawrence\n",
            "1888\n",
            "Taylor Swift\n",
            "1989\n",
            "Theodore Roosevelt\n",
            "1858\n",
            "Tiger Woods\n",
            "1975\n",
            "Tim Berners-Lee\n",
            "1955\n",
            "Tim Cook\n",
            "1960\n",
            "Tony Blair\n",
            "1953\n",
            "V.I. Lenin\n",
            "1870\n",
            "Virginia Woolf\n",
            "1882\n",
            "Walt Disney\n",
            "1901\n",
            "Warren Buffett\n",
            "1930\n",
            "Wilfred Owens\n",
            "1893\n",
            "Winston Churchill\n",
            "1874\n",
            "Woodrow Wilson\n",
            "1856\n",
            "Xi Jinping\n",
            "1953\n"
          ]
        }
      ]
    },
    {
      "cell_type": "markdown",
      "source": [
        "Dalai_Lama,\n",
        "Luiz In쟠io Lula da Silva"
      ],
      "metadata": {
        "id": "Vchm0ecPqNC_"
      }
    }
  ]
}