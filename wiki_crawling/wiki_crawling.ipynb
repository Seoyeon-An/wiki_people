{
 "cells": [
  {
   "cell_type": "code",
   "execution_count": 196,
   "metadata": {},
   "outputs": [],
   "source": [
    "from bs4 import BeautifulSoup\n",
    "import selenium\n",
    "from selenium import webdriver\n",
    "import pandas as pd\n",
    "import time\n",
    "from selenium.webdriver.common.by import By\n",
    "from selenium.webdriver.common.keys import Keys\n",
    "from selenium.webdriver.chrome.service import Service\n",
    "#from webdriver_manager.chrome import ChromeDriverManager"
   ]
  },
  {
   "cell_type": "code",
   "execution_count": 197,
   "metadata": {},
   "outputs": [],
   "source": [
    "driver = webdriver.Chrome()"
   ]
  },
  {
   "cell_type": "code",
   "execution_count": 198,
   "metadata": {},
   "outputs": [],
   "source": [
    "url = 'https://time.com/collection/100-most-influential-people-2023/'\n",
    "driver.get(url)"
   ]
  },
  {
   "cell_type": "code",
   "execution_count": null,
   "metadata": {},
   "outputs": [],
   "source": [
    "soup = BeautifulSoup(driver.page_source, 'lxml')"
   ]
  },
  {
   "cell_type": "code",
   "execution_count": null,
   "metadata": {},
   "outputs": [],
   "source": [
    "name_list =[]\n",
    "soup_list = soup.find_all('ul', 'full-list-content')\n",
    "\n",
    "for i in range(len(soup.find_all('ul', 'full-list-content'))):\n",
    "    lst = soup_list[i]\n",
    "    spans = lst.find_all('span')\n",
    "    for j in range(len(spans)):\n",
    "        name = spans[j].text.replace('\\n', '').strip()\n",
    "        name_list += [name]"
   ]
  },
  {
   "cell_type": "code",
   "execution_count": null,
   "metadata": {},
   "outputs": [
    {
     "data": {
      "text/plain": [
       "96"
      ]
     },
     "execution_count": 99,
     "metadata": {},
     "output_type": "execute_result"
    }
   ],
   "source": [
    "len(name_list) # and로 연결된 사람들 분리해줘야 함"
   ]
  },
  {
   "cell_type": "code",
   "execution_count": null,
   "metadata": {},
   "outputs": [
    {
     "name": "stdout",
     "output_type": "stream",
     "text": [
      "Sara Mardini and Yusra Mardini\n",
      "Niloofar Hamedi and Elaheh Mohammadi\n",
      "Britney Schmidt and Peter Davis\n",
      "Oleksandra Matviichuk\n",
      "Ozlem Tureci and Ugur Sahin\n"
     ]
    }
   ],
   "source": [
    "for i in name_list:\n",
    "    if 'and' in i:\n",
    "        print(i)"
   ]
  },
  {
   "cell_type": "code",
   "execution_count": null,
   "metadata": {},
   "outputs": [],
   "source": [
    "name_list.remove('Sara Mardini and Yusra Mardini')\n",
    "name_list.remove('Niloofar Hamedi and Elaheh Mohammadi')\n",
    "name_list.remove('Britney Schmidt and Peter Davis')\n",
    "name_list.remove('Ozlem Tureci and Ugur Sahin')"
   ]
  },
  {
   "cell_type": "code",
   "execution_count": null,
   "metadata": {},
   "outputs": [],
   "source": [
    "name_list += ['Sara Mardini', 'Yusra Mardini', 'Niloofar Hamedi', 'Elaheh Mohammadi', 'Britney Schmidt', 'Peter Davis', 'Ozlem Tureci', 'Ugur Sahin']"
   ]
  },
  {
   "cell_type": "code",
   "execution_count": null,
   "metadata": {},
   "outputs": [
    {
     "data": {
      "text/plain": [
       "100"
      ]
     },
     "execution_count": 110,
     "metadata": {},
     "output_type": "execute_result"
    }
   ],
   "source": [
    "len(name_list)"
   ]
  },
  {
   "cell_type": "code",
   "execution_count": null,
   "metadata": {},
   "outputs": [],
   "source": [
    "driver = webdriver.Chrome()"
   ]
  },
  {
   "cell_type": "code",
   "execution_count": null,
   "metadata": {},
   "outputs": [],
   "source": [
    "driver.get('https://en.wikipedia.org/wiki/Main_Page')"
   ]
  },
  {
   "cell_type": "code",
   "execution_count": null,
   "metadata": {},
   "outputs": [],
   "source": [
    "search = driver.find_element(By.XPATH,'//*[@id=\"searchform\"]/div/div/div[1]/input')\n",
    "search.send_keys(name_list[0])\n",
    "search.send_keys(Keys.RETURN)\n",
    "\n"
   ]
  },
  {
   "cell_type": "code",
   "execution_count": null,
   "metadata": {},
   "outputs": [],
   "source": [
    "soup = BeautifulSoup(driver.page_source, 'lxml')"
   ]
  },
  {
   "cell_type": "code",
   "execution_count": 238,
   "metadata": {},
   "outputs": [
    {
     "data": {
      "text/plain": [
       "'h2'"
      ]
     },
     "execution_count": 238,
     "metadata": {},
     "output_type": "execute_result"
    }
   ],
   "source": [
    "soup.find_all('h2')[0].name"
   ]
  },
  {
   "cell_type": "code",
   "execution_count": 230,
   "metadata": {},
   "outputs": [
    {
     "data": {
      "text/plain": [
       "'\\n'"
      ]
     },
     "execution_count": 230,
     "metadata": {},
     "output_type": "execute_result"
    }
   ],
   "source": [
    "soup.find('table').next_sibling.next_sibling.next_sibling.next_sibling.next_sibling.get_text()"
   ]
  },
  {
   "cell_type": "code",
   "execution_count": 172,
   "metadata": {},
   "outputs": [
    {
     "data": {
      "text/plain": [
       "'Michael Bakari Jordan was born on February 9, 1987, in Santa Ana, California, [12] to Donna and Michael A. Jordan. He has an older sister and a younger brother.[13] His family lived in Santa Ana, CA for two years before moving to Newark, NJ where Jordan grew up. [12][14] He attended Newark Arts High School, where his mother worked as a teacher, and where he also played basketball.[15][16]\\n'"
      ]
     },
     "execution_count": 172,
     "metadata": {},
     "output_type": "execute_result"
    }
   ],
   "source": [
    "soup.find_all('span', {'id':'Early_life'})[0].next_element.next_element.next_element.get_text()"
   ]
  },
  {
   "cell_type": "code",
   "execution_count": 309,
   "metadata": {},
   "outputs": [],
   "source": [
    "txt_dict = {} \n",
    "txt = ''\n",
    "title = 'summary'\n",
    "subtitle = ''\n",
    "prev = soup.find('table')\n",
    "\n",
    "while True:\n",
    "    next = prev.next_sibling\n",
    "    if next == None:\n",
    "        break\n",
    "    if (next.name == 'h2'):\n",
    "        if subtitle != '':\n",
    "            txt_dict[title].update({subtitle : txt})\n",
    "        else:\n",
    "            txt_dict[title] = {subtitle : txt}\n",
    "        title = next.get_text()\n",
    "        txt = ''\n",
    "        subtitle = ''\n",
    "    elif (next.name == 'h3'):\n",
    "        if subtitle != '':\n",
    "            txt_dict[title].update({subtitle : txt})\n",
    "        else:\n",
    "            txt_dict[title] = {subtitle : txt}\n",
    "        subtitle = next.get_text()\n",
    "        txt = ''\n",
    "    else:\n",
    "        txt += next.get_text().replace('\\n', ' ')\n",
    "    prev = next\n",
    "    "
   ]
  },
  {
   "cell_type": "code",
   "execution_count": 312,
   "metadata": {},
   "outputs": [
    {
     "data": {
      "text/plain": [
       "{'summary': {'': \" Michael Bakari Jordan[1] (/bɑːˈkɑːri/ bah-KAR-ee; born February 9, 1987)[2] is an American actor. He is best known for his film roles as shooting victim Oscar Grant in the drama Fruitvale Station (2013), boxer Adonis Creed in Creed (2015), and Erik Killmonger in Black Panther (2018), all of which were written and directed by Ryan Coogler.[3][4][5][6] Jordan reprised his role of Creed in Creed II (2018) and Creed III (2023); the latter also marked his directorial debut. Jordan initially broke out in television, playing Wallace in the first season of the HBO crime drama series The Wire (2002). He went on to play Reggie Montgomery on the ABC soap opera All My Children (2003–2006) and Vince Howard in the NBC sports drama series Friday Night Lights (2009–2011). His other films include Chronicle (2012), That Awkward Moment (2014), Fantastic Four (2015), and Just Mercy (2019), in which he portrayed Bryan Stevenson. He has also starred in and produced the HBO film Fahrenheit 451 (2018), for which he was nominated for the Primetime Emmy Award for Outstanding Television Movie. Jordan was named one of the 100 most influential people in the world by Time magazine in 2020 and 2023.[7][8] Also in 2020, he was named People's Sexiest Man Alive,[9] and The New York Times ranked him 15th on its list of the 25 greatest actors of the 21st century.[10] Jordan is also a co-owner of English Premier League football club AFC Bournemouth.[11]   \"},\n",
       " 'Early life': {'': ' Michael Bakari Jordan was born on February 9, 1987, in Santa Ana, California, [12] to Donna and Michael A. Jordan. He has an older sister and a younger brother.[13] His family lived in Santa Ana, CA for two years before moving to Newark, NJ where Jordan grew up. [12][14] He attended Newark Arts High School, where his mother worked as a teacher, and where he also played basketball.[15][16]  '},\n",
       " 'Career': {'': ' ',\n",
       "  '1999–2008: Beginnings': ' Jordan worked as a child model for several companies and brands, including Modell\\'s Sporting Goods and Toys \"R\" Us, before deciding to embark on a career as an actor.[17][18] He launched his career as a professional actor in 1999, when he appeared briefly in single episodes of the television series Cosby and The Sopranos.[14] His first principal film role followed in 2001 when he was featured in Hardball, which starred Keanu Reeves. In 2002, he gained more attention by playing the small but pivotal role of Wallace in the first season of HBO\\'s The Wire. In March 2003, he joined the cast of All My Children, replacing Chadwick Boseman, playing Reggie Montgomery, a troubled teenager, until June 2006 when Jordan was released from his contract.[19] Jordan\\'s other credits include guest starring appearances on CSI: Crime Scene Investigation,[20] Without a Trace and Cold Case. Thereafter, he had a lead role in the independent film Blackout and starred in The Assistants on The-N. In 2008, Jordan appeared in the music video \"Did You Wrong\" by R&B artist Pleasure P.  ',\n",
       "  '2009–2012: Friday Night Lights and Parenthood': ' Jordan in 2011 In 2009, Jordan began starring in the NBC drama Friday Night Lights as quarterback Vince Howard, and lived in an apartment in Austin where the show was filmed.[21] He played the character for two seasons until the show ended in 2011.[22] In 2009, he guest-starred on Burn Notice in the episode \"Hot Spot\", playing a high school football player who got into a fight and is being hunted by a local gangster. In 2010, he was considered one of the 55 faces of the future by Nylon Magazine\\'s Young Hollywood Issue.[23][24] In 2010, he guest-starred in the Law & Order: Criminal Intent episode \"Inhumane Society\" as a boxer involved in a Michael Vick-inspired dog fighting scandal. That year, he landed a recurring role on the NBC show Parenthood playing Alex (Haddie Braverman\\'s love interest).[25] This marked his second collaboration with showrunner Jason Katims, who was in charge of Friday Night Lights. BuddyTV ranked him #80 on its list of \"TV\\'s Sexiest Men of 2011\".[26] Jordan voiced Jace in the Xbox 360 game Gears of War 3.[27] In 2012, Jordan appeared in the George Lucas-produced film Red Tails[28] and played lead character Steve Montgomery in Chronicle, a film about three teenaged boys who develop superhuman abilities.[29] He also guest-starred in an episode of House\\'s final season, playing a blind patient.[30]  ',\n",
       "  '2013–present: Breakthrough': ' In 2013, Jordan starred as shooting victim Oscar Grant in Fruitvale Station, directed by Ryan Coogler. His performance garnered critical acclaim, with Todd McCarthy of The Hollywood Reporter stating that Jordan reminded him of \"a young Denzel Washington\".[31] Following his role in Fruitvale Station, Jordan was named an \"actor to watch\" by People and Variety.[32][33] Time magazine named him with Coogler one of 30 people under 30 who are changing the world, and he was also named one of 2013\\'s breakout stars by Entertainment Weekly and GQ.[34][35][36]  Jordan alongside Sylvester Stallone and Tessa Thompson promoting Creed in November 2015 In 2015, he starred as Johnny Storm, the Human Torch, in Fantastic Four.[37][38][39] The film was universally panned by critics, holding a 9% approval rating on Rotten Tomatoes, and was a bust at the box office.[40] However, later in 2015, Jordan rebounded with critical acclaim when he starred as Donnie Creed, the son of boxer Apollo Creed in the seventh Rocky film, Creed, his second collaboration with Coogler, which co-starred Sylvester Stallone.[41] Jordan prepared for his role as a boxer in Creed by undertaking one year of rigorous physical training and a stringent low-fat diet.[42] He did not have a body double during filming and was \"routinely bloodied, bruised, and dizzy\" when fighting scenes were being filmed.[42] In 2016, Jordan featured in the popular sports game NBA 2K17, portraying Justice Young, a teammate of the player in the game\\'s MyCareer mode. In October 2017, it was announced that Jordan was cast in a supporting role as Mark Reese in the upcoming Netflix superhero series Raising Dion.[43] In February 2018, Jordan starred as the villain Erik Killmonger in the Marvel Cinematic Universe (MCU) film Black Panther; this marked Jordan\\'s third collaboration with Coogler.[44] His performance in Black Panther received critical acclaim, with Dani Di Placido of Forbes stating that Jordan \"steals the show\", while Jason Guerrasio of Business Insider wrote that the actor \"plays a Killmonger fueled with hate and emptiness – we won\\'t give away why – but he also delivers it with a swagger that\\'s just a joy to watch ... the movie takes off more in story and viewing enjoyment whenever Jordan is on screen.\"[4][5] Later in 2018, Jordan starred in Fahrenheit 451 with Michael Shannon and Sofia Boutella. The television film was distributed on HBO by HBO Films.[45] That same year, Jordan reprised his role as boxer Donnie Creed in Creed II, a sequel to Creed (2015) and the eighth installment in the Rocky film series. Creed II was released in the United States by Metro-Goldwyn-Mayer on November 21, 2018. The film received generally positive reviews from critics and it went on to debut to $35.3 million in its opening weekend (a five-day total of $55.8 million), marking the biggest debut ever for a live-action release over Thanksgiving.[46][47] He also voices the character Julian Chase in Rooster Teeth\\'s animated series Gen:Lock, which he also co-produces through his production company, Outlier Society Productions since January 2019.[48] Jordan portrayed attorney Bryan Stevenson in a legal drama, Just Mercy, which he also co-produced. The film, based on a real-life story, was released in December 2019 to critical acclaim.[49][50] Jordan stars in Without Remorse, based on the book by Tom Clancy, as John Clark, a former Navy SEAL and director of the elite counterterrorism unit Rainbow Six. Originally planned for release on September 18, 2020, it was released on April 30, 2021 due to the COVID-19 pandemic.[51] Jordan reprised his MCU role as Erik \"Killmonger\" Stevens in two episodes of the first season of What If...? (2021), and in Black Panther: Wakanda Forever (2022),[52][53] and made a cameo appearance in Space Jam: A New Legacy (2021). He also starred in A Journal for Jordan (2021), directed by Denzel Washington, as a soldier who \"kept a journal full of poignant life lessons for their newborn son, Jordan, while deployed overseas.\"[54] Jordan made his directorial debut with Creed III, a sequel to Creed II, in addition to producing and reprising his starring role as boxer Adonis Creed. It was released on March 3, 2023.[11]  Upcoming projects He is slated to reteam with Coogler for the fourth time in Wrong Answer, a film based on the Atlanta Public Schools cheating scandal.[42] Jordan is also set to appear in a second remake of The Thomas Crown Affair.[55] Jordan is also set to appear in the vampire film Blood Brothers.[56] His production company Outlier Society signed a first look deal with Amazon,[57] and is also developing Val-Zod, an HBO Max series featuring a Black version of the DC Comics character Superman.[58] As of March 2022[update], Jordan will produce and star in the sequel of I Am Legend with Will Smith.[59]  '},\n",
       " 'Personal life': {'': ' Jordan has resided in Los Angeles since 2006.[60] He grew up in a religious household and considers himself to be spiritual.[61] As of 2018[update], he lives with his parents in a Sherman Oaks home that he purchased.[62][63] Jordan is also a fan of anime, particularly Naruto: Shippuden and the Dragon Ball franchise.[64][65] Jordan grew up in Newark, New Jersey and is a lifelong fan of the New York Giants.[66] In November 2020, the actor began dating model Lori Harvey, daughter of comedian Steve Harvey.[67] In June 2022, it was announced that the couple had ended their relationship.[68]  ',\n",
       "  'Sports ownership': ' In December 2022, Jordan was announced as part-owner of English football club AFC Bournemouth. The club was taken over by the consortium group the Black Knights Football Club led by fellow American Businessman William Foley.[69] Jordan led the minority ownership group with Kosmos Founder Nullah Sarker.[70][71]  '},\n",
       " 'Filmography': {'': ' Jordan at the 2019 Toronto International Film Festival ',\n",
       "  'Film': '   Year  Title  Role  Notes   2001  Hardball  Jamal     2007  Blackout  C.J.     2009  Pastor Brown  Tariq Brown     2012  Red Tails  Maurice \"Bumps\" Wilson     Chronicle  Steve Montgomery     Hotel Noir  Leon     2013  Fruitvale Station  Oscar Grant     Justice League: The Flashpoint Paradox  Victor Stone / Cyborg  Voice, direct-to-video   2014  That Awkward Moment  Mikey     2015  Fantastic Four  Johnny Storm / Human Torch     Creed  Adonis \"Donnie\" Creed     2018  Black Panther  Erik \"Killmonger\" Stevens     Kin  Male Cleaner  Cameo; also executive producer   Creed II  Adonis \"Donnie\" Creed     2019  Just Mercy  Bryan Stevenson  Also producer   2021  Without Remorse  John Clark  Also producer   Space Jam: A New Legacy  Himself  Cameo[72]   A Journal for Jordan  Charles Monroe King  Also producer   2022  Black Panther: Wakanda Forever  Erik \"Killmonger\" Stevens  Cameo   2023  Creed III  Adonis \"Donnie\" Creed  Also director and producer  ',\n",
       "  'Television': '   Year  Title  Role  Notes   1999  The Sopranos  Rideland Kid  Episode: \"Down Neck\"   Cosby  Mike  Episode: \"The Vesey Method\"   2002  The Wire  Wallace  12 episodes   2003–2006  All My Children  Reggie Porter Montgomery  59 episodes   2006  CSI: Crime Scene Investigation  Morris  Episode: \"Poppin\\' Tags\"   Without a Trace  Jesse Lewis  Episode: \"The Calm Before\"   2007  Cold Case  Michael Carter  Episode: \"Wunderkind\"   2009  Burn Notice  Corey Jensen  Episode: \"Hot Spot\"   Bones  Perry Wilson  Episode: \"The Plain in the Prodigy\"   The Assistants  Nate Warren  13 episodes   2009–2011  Friday Night Lights  Vince Howard  26 episodes   2010  Law & Order: Criminal Intent  Danny Ford  Episode: \"Inhumane Society\"   Lie to Me  Key  2 episodes   2010–2011  Parenthood  Alex  16 episodes   2012  House  Will Westwood  Episode: \"Love Is Blind\"   2014  The Boondocks  Pretty Boy Flizzy  Voice, episode: \"Pretty Boy Flizzy\"   2018  Fahrenheit 451  Guy Montag  Television film; also executive producer   2019–2021  Gen:Lock  Julian Chase  Voice, 16 episodes; also executive producer[73]   Raising Dion  Mark Warren  3 episodes; also executive producer   2021  Love, Death & Robots  Terence[74]  Voice/motion capture; episode: \"Life Hutch\"[75]   What If...?  Erik \"Killmonger\" Stevens  Voice, 2 episodes   2022  America the Beautiful  Narrator  Documentary series   2023  Saturday Night Live  Himself; host  Episode: \"Michael B. Jordan/Lil Baby\"  ',\n",
       "  'Video games': \"   Year  Title  Voice role  Notes   2011  Gears of War 3  Jace Stratton     2016  NBA 2K17  Justice Young / Himself  Host on MyCareer mode   2017  Wilson's Heart  Kurt Mosby     2018  Creed: Rise to Glory  Adonis Creed    \",\n",
       "  'Music videos': '   Year  Title  Performer(s)  Album  Refs.   2008  \"Did You Wrong\"  Pleasure P  The Introduction of Marcus Cooper     2017  \"Family Feud\"  Jay-Z featuring Beyoncé  4:44  [76]   2019  \"Whoa\"  Snoh Aalegra  Ugh, Those Feels Again  [77]  '},\n",
       " 'Awards and nominations': {'': \"   Year  Award  Category  Nominated work  Result  Refs.   2005  Soap Opera Digest Award  Favorite Teen  All My Children  Nominated  [78]   NAACP Image Award  Outstanding Actor in a Daytime Drama Series  Nominated  [79]   2006  NAACP Image Award  Nominated  [80]   2007  Nominated  [81]   2008  Outstanding Literary Work – Debut Author  Homeroom Heroes  Nominated  [82]   2011  EWwy Awards  Best Supporting Actor in a Drama  Friday Night Lights  Nominated  [83]   2013  Detroit Film Critics Society  Best Breakthrough  Fruitvale Station  Nominated  [84]   Hollywood Film Awards  Hollywood Spotlight Award  Won  [85]   Gotham Awards  Breakthrough Actor  Won  [86]   National Board of Review of Motion Pictures  Breakthrough Actor  Won  [87]   Phoenix Film Critics Society  Breakthrough Performance on Camera  Nominated  [88]   Satellite Awards  Breakthrough Award Performance  Won  [89]   Santa Barbara International Film Festival  Virtuoso Award  Won  [90]   St. Louis Gateway Film Critics Association  Best Actor  Nominated  [91]   2014  Independent Spirit Awards  Best Male Lead  Nominated  [92]   Black Reel Awards  Outstanding Actor  Nominated  [93]   NAACP Image Award  Outstanding Actor in a Motion Picture  Nominated  [94]   2015  Golden Raspberry Awards  Worst Screen Combo(shared with Kate Mara, Miles Teller, and Jamie Bell)  Fantastic Four  Nominated     African-American Film Critics Association  Breakout Performance  Creed  Won     Boston Online Film Critics Association  Best Actor  Won     Austin Film Critics Association  Nominated  [95]   Las Vegas Film Critics Society  Nominated     Online Film Critics Society  Best Actor  Nominated     NAACP Image Awards  Outstanding Actor in a Motion Picture  Won     Black Reel Awards  Best Actor  Won     National Society of Film Critics  Best Actor  Won     Empire Awards  Best Actor  Nominated  [96]   MTV Movie Awards  Best Male Performance  Nominated  [97]   2016  Teen Choice Awards  Choice Movie Actor: Drama  Nominated     2018  Primetime Emmy Awards  Outstanding Television Movie  Fahrenheit 451  Nominated  [98]   Saturn Awards  Best Supporting Actor  Black Panther  Nominated  [99]   MTV Movie & TV Awards  Best Villain  Won  [100]   BET Awards  Best Actor  Nominated  [101]   Chicago Film Critics Association Awards  Best Supporting Actor  Nominated  [102]   Dallas–Fort Worth Film Critics Association  Best Supporting Actor  Nominated  [103]   San Francisco Film Critics Circle  Best Supporting Actor  Won  [104]   Seattle Film Critics Society  Nominated  [105]   Villain of the Year  Won   St. Louis Film Critics Association  Best Supporting Actor  Nominated  [106]   Teen Choice Awards  Choice Villain  Won  [107]   Toronto Film Critics Association Awards  Best Supporting Actor  Runner-up  [108]   Washington D.C. Area Film Critics Association Awards  Best Supporting Actor  Nominated  [109]   2019  Alliance of Women Film Journalists  Best Actor in a Supporting Role  Nominated  [110]   Santa Barbara International Film Festival  Cinema Vanguard Award  Honored  [111]   Black Reel Awards  Outstanding Supporting Actor  Nominated  [112]   Critics' Choice Awards  Best Supporting Actor  Nominated  [113]   Austin Film Critics Association  Best Supporting Actor  Nominated  [114]   Houston Film Critics Society  Nominated  [115]   London Film Critics' Circle  Best Supporting Actor of the Year  Nominated  [116]   Online Film Critics Society  Best Supporting Actor  Won  [117]   Screen Actors Guild Awards  Outstanding Performance by a Cast in a Motion Picture  Won  [118]   NAACP Image Awards  Outstanding Supporting Actor in a Motion Picture  Won  [119]   Outstanding Actor in a Television Movie, Limited-Seriesor Dramatic Special  Fahrenheit 451  Won  [120]   Producers Guild of America Awards  Best Streamed or Televised Movie  Won   2020  NAACP Image Awards  Outstanding Actor in a Motion Picture  Just Mercy  Won  [120]   2022  Children's and Family Emmy Awards  Outstanding Children's or Family Viewing Series  Raising Dion  Nominated  [121]  \"},\n",
       " 'References': {'': ' .mw-parser-output .reflist{font-size:90%;margin-bottom:0.5em;list-style-type:decimal}.mw-parser-output .reflist .references{font-size:100%;margin-bottom:0;list-style-type:inherit}.mw-parser-output .reflist-columns-2{column-width:30em}.mw-parser-output .reflist-columns-3{column-width:25em}.mw-parser-output .reflist-columns{margin-top:0.3em}.mw-parser-output .reflist-columns ol{margin-top:0}.mw-parser-output .reflist-columns li{page-break-inside:avoid;break-inside:avoid-column}.mw-parser-output .reflist-upper-alpha{list-style-type:upper-alpha}.mw-parser-output .reflist-upper-roman{list-style-type:upper-roman}.mw-parser-output .reflist-lower-alpha{list-style-type:lower-alpha}.mw-parser-output .reflist-lower-greek{list-style-type:lower-greek}.mw-parser-output .reflist-lower-roman{list-style-type:lower-roman}  ^ 73 Questions With Michael B. Jordan. November 28, 2017.  Event occurs at 0:52. Archived from the original on February 21, 2020. Retrieved February 11, 2020 – via YouTube. Bakari. It\\'s Swahili, means \\'noble promise.\\'{{cite AV media}}:  CS1 maint: bot: original URL status unknown (link)  ^ \"Michael B. Jordan Biography (1987–)\". Biography.com. Archived from the original on July 16, 2020. Retrieved September 1, 2020.  ^ Barker, Andrew (November 18, 2015). \"Film Review: \\'Creed\\'\". Variety. Archived from the original on September 5, 2018. Retrieved February 23, 2018.  ^ Jump up to: a b Placido, Dani Di. \"\\'Black Panther\\' Review: Killmonger Steals The Show\". Forbes. Archived from the original on July 12, 2018. Retrieved February 21, 2018.  ^ Jump up to: a b \"\\'Black Panther\\' is the rare Marvel movie that makes you care about the villain – and Michael B. Jordan delivers an incredible performance\". Business Insider. February 14, 2018. Archived from the original on July 30, 2018. Retrieved February 21, 2018.  ^ \"The Ascent of \\'Black Panther\\' Director Ryan Coogler\". The Hollywood Reporter. Archived from the original on September 13, 2018. Retrieved February 18, 2018.  ^ \"Michael B. Jordan: The 100 Most Influential People of 2020\". Time. Archived from the original on September 24, 2020. Retrieved September 23, 2020.  ^ \"Time 100\". Time. April 13, 2023. Archived from the original on April 13, 2023. Retrieved April 13, 2023.  ^ \"Michael B. Jordan Is PEOPLE\\'s Sexiest Man Alive 2020: \\'The Women in My Family Are Proud of This One\\'\". People. Archived from the original on November 18, 2020. Retrieved November 18, 2020.  ^ Dargis, Manohla; Scott, A.O. (November 25, 2020). \"The 25 greatest actors of the 21st century (so far)\". The New York Times. Archived from the original on December 1, 2020. Retrieved December 14, 2020.  ^ Jump up to: a b Fleming, Mike Jr. (March 10, 2021). \"Michael B. Jordan Ready To Fight For New Title As Director Of \\'Creed III\\'; MGM Dates Film For Thanksgiving 2022\". Deadline. Archived from the original on March 10, 2021. Retrieved March 12, 2021.  ^ Jump up to: a b Bronner, Sasha (January 23, 2013). \"Michael B. Jordan, \\'Fruitvale\\' Star, Reveals His Early Tap Dancing Roots (Photos)\". HuffPost. Archived from the original on February 17, 2020. I was born in Orange County – in Santa Ana. My dad is from California. I was raised on the East Coast. My first two years were in California...  ^ Herzog, Laura (November 18, 2015). \"Creed star Michael B. Jordan gets key to hometown of Newark\". NJ Advance Media. Archived from the original on December 13, 2019. Retrieved August 14, 2018. Raised in Newark, Jordan studied drama at the public magnet Newark Arts High School, where his mother is still a teacher, city officials said and he has been married happily for 10 years to Danisha. Jordan has a sister, Jamila, and a younger brother, Khalid, who attended Howard University in 2010, where he played football.  ^ Jump up to: a b Politi, Steve (July 15, 2011). \"Politi: \\'Friday Night Lights\\' is over, but Newark\\'s Michael B. Jordan is just getting started\". NJ.com. Archived from the original on August 18, 2011. Retrieved August 3, 2011.  ^ Herzog, Laura (November 18, 2015). \"Creed star Michael B. Jordan gets key to hometown of Newark\". NJ Advance Media. Archived from the original on December 13, 2019. Retrieved August 14, 2018. Raised in Newark, Jordan studied drama at the public magnet Newark Arts High School, where his mother is still a teacher, city officials said and he has been married happily for 10 years to Danisha. Jordan has a sister, Jamila, and a younger brother, Khalid, who attended Howard University in 2010, where he played football.  ^ Friedman, Jackie (February 3, 2010). \"Tap-dancing, Howard-bound lineman Khalid Jordan first from Arts High to earn full athletic scholarship\". The Star-Ledger. Newark, New Jersey. Archived from the original on October 20, 2013. Retrieved June 16, 2013.  ^ Morales, Wilson (September 2002). \"On His Own\\xa0: An Interview with Michael B. Jordan\". blackfilm.com. Archived from the original on September 26, 2011. Retrieved August 4, 2011.  ^ Kaufman, Amy; Horn, John (January 22, 2013). \"Are they the Sundance Film Festival\\'s next finds?\". Los Angeles Times. Archived from the original on October 22, 2013. Retrieved June 16, 2013.  ^ Kroll, Dan J. (August 25, 2006). \"Jordan out, Reggie to remain \"missing\"\". Soapcentral. Archived from the original on February 2, 2014. Retrieved June 17, 2013.  ^ \"Photos/ CSI Guest Stars: Celebrity DNA – Michael B. Jordan\". E! Online. Archived from the original on January 21, 2023. Retrieved June 17, 2013.  ^ Koski, Genevieve (July 15, 2011). \"Interview Michael B. Jordan\". The A.V. Club. Archived from the original on July 18, 2011. Retrieved August 4, 2011.  ^ Ausiello, Michael (August 17, 2009). \"\\'Friday Night Lights\\' drafts Michael Jordan!\". Entertainment Weekly. Archived from the original on June 11, 2015. Retrieved June 17, 2013.  ^ \"Young Hollywood 2010 Preview\". April 20, 2010. Archived from the original on December 21, 2021. Retrieved August 5, 2011 – via Youtube.  ^ \"Nylon Magazine: Young Hollywood Issue\". The CR Journal. May 18, 2010. Archived from the original on September 7, 2018. Retrieved August 5, 2011.  ^ Keck, William (August 13, 2010). \"Friday Night Lights\\' Quarterback to Romance Parenthood Daughter\". TV Guide. Archived from the original on January 8, 2014. Retrieved June 17, 2013.  ^ \"TV\\'s 100 Sexiest Men of 2011\". BuddyTV. December 7, 2011. Archived from the original on April 22, 2018. Retrieved March 9, 2012.  ^ \"Michael B Jordan replaces Drake as Jace in Gears of War 3\". N4G.com. April 22, 2011. Archived from the original on January 8, 2014. Retrieved April 22, 2011.  ^ Clark, Krystal (April 6, 2009). \"George Lucas Finally Casts Red Tails\". ScreenCrave. Archived from the original on October 19, 2013. Retrieved June 17, 2013.  ^ \"\\'Chronicle\\' Trailer: Teens Become Superheroes\". The Huffington Post. October 19, 2011. Archived from the original on October 22, 2011. Retrieved October 23, 2011.  ^ Ng, Philiana (January 3, 2012). \"\\'Friday Night Lights\\' Actor Lands Guest Role on \\'House\\'\". The Hollywood Reporter. Archived from the original on January 10, 2012. Retrieved January 5, 2012.  ^ McCarthy, Todd (January 20, 2013). \"Fruitvale: Sundance Review\". The Hollywood Reporter. Archived from the original on November 3, 2013. Retrieved June 16, 2013.  ^ Jordan, Julie (October 10, 2013). \"People\\'s Ones to Watch: Andy Samberg, Sam Claflin & More Top This Year\\'s List\". People. Archived from the original on November 8, 2019. Retrieved October 5, 2019.  ^ Kaufman, Anthony (October 9, 2013). \"10 Actors to Watch: Michael B. Jordan Arrives With \\'Fruitvale Station\\'\". Variety. Archived from the original on October 11, 2013. Retrieved October 10, 2013.  ^ Begley, Sarah (December 5, 2013). \"These Are the 30 People Under 30 Changing the World\". Time. Archived from the original on October 27, 2016. Retrieved December 25, 2013.  ^ \"Breakout Stars of 2013 – Michael B. Jordan\". Entertainment Weekly. December 25, 2013. Archived from the original on December 28, 2013. Retrieved December 28, 2013.  ^ \"Michael B. Jordan: Breakout of the Year 2013\". GQ. December 2, 2013. Archived from the original on December 30, 2013. Retrieved December 29, 2013.  ^ \"Michael B. Jordan Signed On For \\'Fantastic Four\\'\". vibe. October 21, 2013. Archived from the original on July 2, 2015. Retrieved February 3, 2014.  ^ Kroll, Justin (February 19, 2014). \"\\'Fantastic Four\\' Cast Revealed\". Variety. Archived from the original on August 3, 2020. Retrieved February 20, 2014.  ^ \"Fox Looking To Dump Fantastic Four Director, Screenplay And Recast, Six Months Before They Are Due To Shoot\". Bleeding Cool. March 14, 2014. Archived from the original on March 15, 2014. Retrieved March 14, 2014.  ^ Fantastic Four, archived from the original on September 1, 2015, retrieved January 14, 2017  ^ \"Creed Movie – Michael B. Jordan and Sylvester Stallones – Spoiler Alert\". phillychitchat.com. Archived from the original on September 24, 2015. Retrieved February 24, 2015.  ^ Jump up to: a b c Buckley, Cara (October 28, 2015). \"Michael B. Jordan Gives Millennials Their \\'Rocky\\' With \\'Creed\\'\". The New York Times. ISSN\\xa00362-4331. Archived from the original on October 29, 2015. Retrieved October 29, 2015.  ^ Littleton, Cynthia (October 6, 2017). \"Netflix Gives Series Order to Michael B. Jordan\\'s Sci-Fi Family Drama \\'Raising Dion\\'\". Variety. Archived from the original on October 6, 2017. Retrieved February 12, 2019.  ^ Kit, Borys (May 13, 2016). \"Michael B. Jordan Joins Marvel\\'s \\'Black Panther\\'\". The Hollywood Reporter. Archived from the original on May 14, 2016. Retrieved May 13, 2016.  ^ Hipes, Patrick (April 19, 2017). \"Michael B. Jordan & Michael Shannon To Topline \\'Fahrenheit 451\\' Movie At HBO\". Deadline. Archived from the original on January 21, 2020. Retrieved July 20, 2017.  ^ Campbell, Christopher (November 18, 2018). \"Creed II First Reviews: A Solid, if Predictable, Sequel\". Rotten Tomatoes. Archived from the original on April 23, 2019. Retrieved November 16, 2018.  ^ \"Michael B. Jordan\\'s \\'Creed 2\\' KO\\'s Box Office With Record-Breaking $55M Debut\". Forbes. Archived from the original on November 25, 2018. Retrieved November 25, 2018.  ^ Spangler, Todd (May 21, 2018). \"\\'Black Panther\\' Star Michael B. Jordan to Lend Voice to Rooster Teeth\\'s \\'gen:Lock\\' Anime-Style Series\". Variety. Archived from the original on May 22, 2018. Retrieved May 22, 2018.  ^ Kroll, Justin (July 24, 2015). \"Broad Green Pictures Lands \\'Just Mercy\\' With Michael B. Jordan\". Variety. Archived from the original on February 6, 2016. Retrieved February 7, 2016.  ^ \"Warner Bros. Picks Up Michael B. Jordan Legal Drama \\'Just Mercy\\'\". The Hollywood Reporter. November 30, 2017. Archived from the original on July 16, 2019. Retrieved February 21, 2018.  ^ Couch, Aaron (February 4, 2019). \"Michael B. Jordan\\'s \\'Without Remorse\\' Sets 2020 Release Date\". The Hollywood Reporter. Archived from the original on May 13, 2021. Retrieved May 9, 2021.  ^ Jasper, Gavin (September 15, 2021). \"What If…? Episode 6 Review: Killmonger to the Rescue\". Den of Geek. Archived from the original on September 17, 2021. Retrieved October 2, 2021.  ^ Delicana, Ysmael (November 9, 2022). \"Why Did Erik Killmonger Appear in the Ancestral Plane in Wakanda Forever?\". Archived from the original on November 9, 2022. Retrieved November 11, 2022.  ^ Kroll, Justin (February 21, 2019). \"Michael B. Jordan to Star in Denzel Washington\\'s \\'Journal for Jordan\\'\". Archived from the original on February 22, 2019. Retrieved February 21, 2019.  ^ Kit, Borys (February 24, 2016). \"Michael B. Jordan, MGM to Remake \\'The Thomas Crown Affair\\'\". The Hollywood Reporter. Archived from the original on November 21, 2019. Retrieved March 12, 2016.  ^ \"Michael B. Jordan in Negotiations to Star in MGM\\'s Vampire Movie \\'Blood Brothers\\'\". TheWrap. August 28, 2015. Archived from the original on February 26, 2021. Retrieved April 6, 2021.  ^ \"Amazon And Outlier Society Sign First-Look Deal\". VideoAge International. Archived from the original on February 9, 2021. Retrieved February 9, 2021.  ^ Fleming, Mike Jr. (October 26, 2021). \"Michael B. Jordan\\'s \\'Val Zod\\' Superhero Project Lands Darnell Metayer & Josh Peters To Adapt For HBO Max\". Deadline Hollywood. Archived from the original on October 26, 2021. Retrieved January 21, 2022.  ^ D\\'Alessandro, Anthony (March 4, 2022). \"\\'I Am Legend\\' Next Chapter: Will Smith & Michael B. Jordan To Star & Produce Together For First Time; Akiva Goldsman Back To Write\". Deadline Hollywood. Archived from the original on March 9, 2022. Retrieved March 7, 2022.  ^ Mottram, James (January 3, 2016). \"Michael B Jordan: Star of Rocky sequel Creed on why he goes for roles written for white characters\". The Independent. Archived from the original on May 12, 2022. Retrieved February 7, 2016.  ^ Sangweni, Yolanda (May 10, 2014). \"Michael B. Jordan Answers Essence\\'s Questions on Faith and Spirituality\". Essence. Archived from the original on February 8, 2016. Retrieved February 7, 2016.  ^ \"The Heartwarming Reason Why Michael B. Jordan Lives with His Parents\". Flare. February 23, 2018. Archived from the original on May 1, 2021. Retrieved October 17, 2018.  ^ Berger, Sarah (February 20, 2018). \"Why 31-year-old \\'Black Panther\\' star Michael B. Jordan still lives with his parents\". CNBC. Archived from the original on October 18, 2018. Retrieved October 17, 2018.  ^ \"Michael B Jordan Goes Undercover on Twitter, YouTube and Reddit\". GQ. November 12, 2018.[dead YouTube link]  ^ Monique, Joelle (June 17, 2019). \"Michael B. Jordan Talks \\'gen:LOCK\\' and His Love of Anime: \"I\\'ve Cried Little Man Tears\"\". The Hollywood Reporter. Archived from the original on May 9, 2021. Retrieved May 9, 2021.  ^ \"Michael B. Jordan joins The Eli Manning Show\". www.giants.com. Archived from the original on March 8, 2023. Retrieved April 18, 2023.  ^ \"Michael B. Jordan Throw GF Lori Harvey a Surprise Birthday Party\". Us Weekly. January 12, 2022. Archived from the original on January 22, 2022. Retrieved January 16, 2022.  ^ VanHoose, Benjamin (June 4, 2022). \"Michael B. Jordan, Lori Harvey Break Up After Over 1 Year: \\'Both Completely Heartbroken,\\' Says Source\". people.com. Archived from the original on June 5, 2022. Retrieved June 5, 2022.  ^ \"Michael B. Jordan joins B\\'mouth ownership group\". December 13, 2022. Archived from the original on January 21, 2023. Retrieved December 14, 2022.  ^ \"Partnership Led by William P. Foley, II and Cannae Holdings, Inc. Announces Completion of the Acquisition of A.F.C. Bournemouth\". www.yahoo.com. Archived from the original on February 22, 2023. Retrieved April 18, 2023.  ^ Tanswell, Ahmed Shooble and Jacob. \"Bill Foley\\'s plans for Bournemouth: A multi-club model, feeder clubs and Michael B. Jordan\\'s role\". The Athletic. Archived from the original on March 21, 2023. Retrieved April 18, 2023.  ^ \"\\'Space Jam\\' Stars Don Cheadle and Cedric Joe Didn\\'t Know Michael B. Jordan Would be in the Movie (Exclusive) | Entertainment Tonight\". www.etonline.com. June 30, 2021. Archived from the original on July 5, 2021. Retrieved July 6, 2021.  ^ \"\\'Black Panther\\'s\\' Michael B. Jordan To Star In Rooster Teeth Animated Series \\'gen:LOCK\\'\". Deadline Hollywood. Penske Media Corporation. May 21, 2018. Archived from the original on May 22, 2018. Retrieved May 22, 2018.  ^ \"Netflix drops surprise trailer for Love, Death & Robots Vol. 2\". TechRadar. Future US. April 19, 2021. Archived from the original on April 21, 2021. Retrieved April 21, 2021.  ^ \"\\'Love, Death + Robots Volume 2\\' Features More Weird Aliens, Naked Giants, And Michael B. Jordan\". Mashable. April 20, 2021. Archived from the original on April 20, 2021. Retrieved April 21, 2021.  ^ Aswad, Jem (December 29, 2017). \"Jay-Z Drops Beyonce-Starring Video for \\'Family Feud\\'\". Variety. Archived from the original on December 31, 2017. Retrieved December 30, 2017.  ^ Jackson, Vannessa (December 13, 2019). \"Michael B. Jordan Seemingly Confirms Snoh Aalegra Romance With Steamy \"Whoa\" Music Video\". E! Online. Archived from the original on February 16, 2020. Retrieved April 28, 2020.  ^ \"The Soap Opera Digest Awards: 2005\". Soap Opera Digest. soapoperadigest.com. April 2005. Archived from the original on February 25, 2008. Retrieved November 12, 2015.  ^ \"Friday Night Lights – Cast bios: Michael B. Jordan\". nbc.com. Archived from the original on August 8, 2011. Retrieved August 5, 2011.  ^ \"37th Annual NAACP Image Award Winners, 2006\". BlackFlix.com. Archived from the original on September 5, 2014. Retrieved August 5, 2011.  ^ \"The 38th NAACP Image Award Takes Place with Superstar Entertainer LL Cool as Host\" (PDF). naacpimageawards.net. National Association for the Advancement of Colored People. March 15, 2007. Archived from the original (PDF) on May 19, 2010. Retrieved May 17, 2010.  ^ \"Michael B. Jordan: The Ascension of A Star\". BleuMagazine. July 13, 2011. Archived from the original on July 22, 2012. Retrieved August 5, 2011.  ^ \"EWwy Awards 2011: Best Supporting Actor Winner\". Entertainment Weekly. October 11, 2011. Archived from the original on December 28, 2014. Retrieved October 23, 2011.  ^ Long, Tom (December 9, 2013). \"Detroit Film Critics Society nominates top films\". The Detroit News. Archived from the original on December 13, 2013. Retrieved December 10, 2013.  ^ Feinberg, Scott (October 9, 2013). \"Hollywood Film Awards to Honor Michael B. Jordan, Sophie Nelisse and David Oyelowo\". The Hollywood Reporter. Archived from the original on November 14, 2017. Retrieved October 19, 2013.  ^ Pond, Steve (October 24, 2013). \"\\'12 Years a Slave\\' Leads Gotham Awards Nominations\". The Wrap. Archived from the original on October 27, 2013. Retrieved October 24, 2013.  ^ \"National Board of Review Announces 2013 Award Winners\". The National Board of Review. December 4, 2013. Archived from the original on June 24, 2014. Retrieved December 5, 2013.  ^ Adams, Ryan (December 10, 2013). \"Phoenix Film Critics Society nominations\". AwardsDaily. Archived from the original on December 14, 2013. Retrieved December 14, 2013.  ^ Kilday, Gregg (December 2, 2013). \"Satellite Awards: \\'12 Years a Slave\\' Leads Film Nominees\". The Hollywood Reporter. Archived from the original on February 27, 2014. Retrieved December 2, 2013.  ^ Pond, Steve (December 8, 2013). \"Oscar Isaac, Michael B. Jordan and Brie Larson Among Santa Barbara Fest\\'s New Honorees\". The Wrap. Archived from the original on December 14, 2013. Retrieved December 14, 2013.  ^ Venhaus, Lynn (December 9, 2013). \"St. Louis Film Critics choose their award nominees\". Belleville News-Democrat. Archived from the original on December 13, 2013. Retrieved December 9, 2013.  ^ Tatko-Peterson, Ann (November 26, 2013). \"Spirit Awards: \\'12 Years a Slave\\' leads nominations, \\'Fruitvale Station\\' in mix\". San Jose Mercury News. Archived from the original on December 3, 2013. Retrieved November 29, 2013.  ^ \"The 14th Annual Black Reel Awards Nominations\". Blackreelawards.wordpress.com. December 18, 2013. Archived from the original on November 22, 2018. Retrieved December 22, 2013.  ^ Rodriguez, Briana (January 9, 2014). \"\\'Lee Daniels\\' The Butler\\' and \\'Scandal\\' Lead NAACP\\'s Image Award Noms\". Backstage. Archived from the original on January 11, 2014. Retrieved January 12, 2014.  ^ \"Austin Film Critics Association (AFCA) Nominations – Winners on Page 2\". awardswatch.com. Archived from the original on September 13, 2017. Retrieved December 31, 2015.  ^ Nugent, John (February 18, 2016). \"Jameson Empire Awards 2016: Star Wars and Mad Max lead the nominations\". Empire. Archived from the original on March 5, 2016. Retrieved April 17, 2020.  ^ \"2016 MTV Movie Award Winners: See The Full List\". MTV (MTV News). Archived from the original on May 20, 2016. Retrieved April 11, 2016.  ^ \"Michael B. Jordan\". emmys.com. Academy of Television Arts & Sciences. Archived from the original on September 19, 2020. Retrieved April 14, 2020.  ^ McNary, Dave (March 15, 2018). \"\\'Black Panther,\\' \\'Walking Dead\\' Rule Saturn Awards Nominations\". Variety. Archived from the original on March 16, 2018. Retrieved March 15, 2018.  ^ Hall, Gerald (May 3, 2018). \"Black Panther, Stranger Things lead MTV Movie & TV Awards nominations\". EW. Archived from the original on January 22, 2021. Retrieved May 3, 2018.  ^ Ramos, Dino-Ray; N\\'Duka, Amanda (June 26, 2018). \"BET Awards: \\'Black Panther\\', Tiffany Haddish, Chadwick Boseman Take Top Honors – Full Winners List\". Deadline Hollywood. Archived from the original on June 27, 2018. Retrieved June 26, 2018.  ^ \"\"Roma,\" \"The Favourite\" and \"A Star is Born\" lead 2018 CFCA nominations\". Chicago Film Critics Association. December 8, 2018. Archived from the original on December 9, 2018. Retrieved December 8, 2018.  ^ Jorgenson, Todd (December 17, 2018). \"DFW Film Critics Name \"A Star Is Born\" Best Picture of 2018\". Dallas–Fort Worth Film Critics Association. Archived from the original on March 24, 2019. Retrieved December 17, 2018.  ^ \"2018 San Francisco Film Critics Circle Awards\". San Francisco Film Critics Circle. December 8, 2018. Archived from the original on December 9, 2018. Retrieved December 8, 2018.  ^ \"\"Roma\" Named Best Picture of 2018 By Seattle Film Critics Society\". Seattle Film Critics Society. December 17, 2018. Archived from the original on December 17, 2018. Retrieved December 17, 2018.  ^ \"2018 StLFCA Annual Award Winners\". St. Louis Film Critics Association. December 9, 2018. Archived from the original on December 15, 2015. Retrieved December 17, 2018.  ^ \"Teen Choice Awards: Winners List\". The Hollywood Reporter. August 12, 2018. Archived from the original on August 13, 2018. Retrieved August 12, 2018.  ^ \"Toronto Film Critics Association Announces 2018 Awards\". Toronto Film Critics Association. December 10, 2018. Archived from the original on December 11, 2018. Retrieved December 10, 2018.  ^ \"2018 WAFCA Awards Winners\". Washington D.C. Area Film Critics Association. December 3, 2018. Archived from the original on October 17, 2018. Retrieved December 3, 2018.  ^ \"2018 EDA Award Nominees\". Alliance of Women Film Journalists. December 20, 2018. Archived from the original on December 21, 2018. Retrieved December 20, 2018.  ^ McNary, Dave (December 7, 2018). \"Santa Barbara Festival to Honor Michael B. Jordan for \\'Black Panther,\\' \\'Creed II\\'\". Variety. Archived from the original on December 8, 2018. Retrieved December 7, 2018.  ^ \"Black Panther \"Roars!\"\". Black Reel Awards. December 13, 2018. Archived from the original on April 26, 2019. Retrieved December 13, 2018.  ^ Tapley, Kristopher (December 10, 2018). \"\\'The Favourite,\\' \\'Black Panther,\\' \\'First Man\\' Lead Critics\\' Choice Movie Nominations\". Variety. Archived from the original on November 2, 2019. Retrieved December 10, 2018.  ^ Whittaker, Richard (December 28, 2018). \"Austin Film Critics Release 2018 Awards Nominee Lists\". The Austin Chronicle. Archived from the original on December 29, 2018. Retrieved December 28, 2018.  ^ Vonder Haar, Pete (December 17, 2018). \"Houston Film Critics Society Announces 2018 Awards Nominations\". Houston Press. Archived from the original on December 18, 2018. Retrieved December 17, 2018.  ^ Lodge, Guy (December 18, 2018). \"\\'The Favourite\\' Leads London Critics\\' Circle Nominations\". Variety. Archived from the original on January 15, 2021. Retrieved December 18, 2018.  ^ Petski, Denise (December 26, 2018). \"\\'The Favourite\\' Leads Online Film Critics Society Nominations With 8; \\'Roma\\' & \\'Beale Street\\' Follow\". Deadline Hollywood. Archived from the original on December 26, 2018. Retrieved December 26, 2018.  ^ Hipes, Patrick (December 12, 2018). \"SAG Awards Nominations: \\'A Star Is Born\\', \\'Mrs. Maisel\\', \\'Ozark\\' Lead Way – The Full List\". Deadline Hollywood. Archived from the original on December 13, 2018. Retrieved December 12, 2018.  ^ N\\'Duka, Anita; Bennett, Amanda (March 31, 2019). \"Beyoncé Nabs Entertainer Of The Year, \\'Black Panther\\', \\'Black-Ish\\' Among Top Winners At 50th NAACP Image Awards\". Deadline. Archived from the original on January 15, 2021. Retrieved February 27, 2023.  ^ Jump up to: a b \"Michael B. Jordan\". IMDb. Archived from the original on March 8, 2023. Retrieved February 27, 2023.  ^ \"NATAS announces nominations for first annual Children\\'s & Family Emmys\" (PDF). National Academy of Television Arts and Sciences. November 10, 2022. Archived (PDF) from the original on November 12, 2022. Retrieved November 21, 2022.   '}}"
      ]
     },
     "execution_count": 312,
     "metadata": {},
     "output_type": "execute_result"
    }
   ],
   "source": [
    "txt_dict"
   ]
  },
  {
   "cell_type": "code",
   "execution_count": 311,
   "metadata": {},
   "outputs": [
    {
     "data": {
      "text/html": [
       "<div>\n",
       "<style scoped>\n",
       "    .dataframe tbody tr th:only-of-type {\n",
       "        vertical-align: middle;\n",
       "    }\n",
       "\n",
       "    .dataframe tbody tr th {\n",
       "        vertical-align: top;\n",
       "    }\n",
       "\n",
       "    .dataframe thead th {\n",
       "        text-align: right;\n",
       "    }\n",
       "</style>\n",
       "<table border=\"1\" class=\"dataframe\">\n",
       "  <thead>\n",
       "    <tr style=\"text-align: right;\">\n",
       "      <th></th>\n",
       "      <th>summary</th>\n",
       "      <th>Early life</th>\n",
       "      <th>Career</th>\n",
       "      <th>Personal life</th>\n",
       "      <th>Filmography</th>\n",
       "      <th>Awards and nominations</th>\n",
       "      <th>References</th>\n",
       "    </tr>\n",
       "  </thead>\n",
       "  <tbody>\n",
       "    <tr>\n",
       "      <th></th>\n",
       "      <td>Michael Bakari Jordan[1] (/bɑːˈkɑːri/ bah-KAR...</td>\n",
       "      <td>Michael Bakari Jordan was born on February 9,...</td>\n",
       "      <td></td>\n",
       "      <td>Jordan has resided in Los Angeles since 2006....</td>\n",
       "      <td>Jordan at the 2019 Toronto International Film...</td>\n",
       "      <td>Year  Award  Category  Nominated work  Resu...</td>\n",
       "      <td>.mw-parser-output .reflist{font-size:90%;marg...</td>\n",
       "    </tr>\n",
       "    <tr>\n",
       "      <th>1999–2008: Beginnings</th>\n",
       "      <td>NaN</td>\n",
       "      <td>NaN</td>\n",
       "      <td>Jordan worked as a child model for several co...</td>\n",
       "      <td>NaN</td>\n",
       "      <td>NaN</td>\n",
       "      <td>NaN</td>\n",
       "      <td>NaN</td>\n",
       "    </tr>\n",
       "    <tr>\n",
       "      <th>2009–2012: Friday Night Lights and Parenthood</th>\n",
       "      <td>NaN</td>\n",
       "      <td>NaN</td>\n",
       "      <td>Jordan in 2011 In 2009, Jordan began starring...</td>\n",
       "      <td>NaN</td>\n",
       "      <td>NaN</td>\n",
       "      <td>NaN</td>\n",
       "      <td>NaN</td>\n",
       "    </tr>\n",
       "    <tr>\n",
       "      <th>2013–present: Breakthrough</th>\n",
       "      <td>NaN</td>\n",
       "      <td>NaN</td>\n",
       "      <td>In 2013, Jordan starred as shooting victim Os...</td>\n",
       "      <td>NaN</td>\n",
       "      <td>NaN</td>\n",
       "      <td>NaN</td>\n",
       "      <td>NaN</td>\n",
       "    </tr>\n",
       "    <tr>\n",
       "      <th>Sports ownership</th>\n",
       "      <td>NaN</td>\n",
       "      <td>NaN</td>\n",
       "      <td>NaN</td>\n",
       "      <td>In December 2022, Jordan was announced as par...</td>\n",
       "      <td>NaN</td>\n",
       "      <td>NaN</td>\n",
       "      <td>NaN</td>\n",
       "    </tr>\n",
       "    <tr>\n",
       "      <th>Film</th>\n",
       "      <td>NaN</td>\n",
       "      <td>NaN</td>\n",
       "      <td>NaN</td>\n",
       "      <td>NaN</td>\n",
       "      <td>Year  Title  Role  Notes   2001  Hardball  ...</td>\n",
       "      <td>NaN</td>\n",
       "      <td>NaN</td>\n",
       "    </tr>\n",
       "    <tr>\n",
       "      <th>Television</th>\n",
       "      <td>NaN</td>\n",
       "      <td>NaN</td>\n",
       "      <td>NaN</td>\n",
       "      <td>NaN</td>\n",
       "      <td>Year  Title  Role  Notes   1999  The Sopran...</td>\n",
       "      <td>NaN</td>\n",
       "      <td>NaN</td>\n",
       "    </tr>\n",
       "    <tr>\n",
       "      <th>Video games</th>\n",
       "      <td>NaN</td>\n",
       "      <td>NaN</td>\n",
       "      <td>NaN</td>\n",
       "      <td>NaN</td>\n",
       "      <td>Year  Title  Voice role  Notes   2011  Gear...</td>\n",
       "      <td>NaN</td>\n",
       "      <td>NaN</td>\n",
       "    </tr>\n",
       "    <tr>\n",
       "      <th>Music videos</th>\n",
       "      <td>NaN</td>\n",
       "      <td>NaN</td>\n",
       "      <td>NaN</td>\n",
       "      <td>NaN</td>\n",
       "      <td>Year  Title  Performer(s)  Album  Refs.   2...</td>\n",
       "      <td>NaN</td>\n",
       "      <td>NaN</td>\n",
       "    </tr>\n",
       "  </tbody>\n",
       "</table>\n",
       "</div>"
      ],
      "text/plain": [
       "                                                                                         summary  \\\n",
       "                                                Michael Bakari Jordan[1] (/bɑːˈkɑːri/ bah-KAR...   \n",
       "1999–2008: Beginnings                                                                        NaN   \n",
       "2009–2012: Friday Night Lights and Parenthood                                                NaN   \n",
       "2013–present: Breakthrough                                                                   NaN   \n",
       "Sports ownership                                                                             NaN   \n",
       "Film                                                                                         NaN   \n",
       "Television                                                                                   NaN   \n",
       "Video games                                                                                  NaN   \n",
       "Music videos                                                                                 NaN   \n",
       "\n",
       "                                                                                      Early life  \\\n",
       "                                                Michael Bakari Jordan was born on February 9,...   \n",
       "1999–2008: Beginnings                                                                        NaN   \n",
       "2009–2012: Friday Night Lights and Parenthood                                                NaN   \n",
       "2013–present: Breakthrough                                                                   NaN   \n",
       "Sports ownership                                                                             NaN   \n",
       "Film                                                                                         NaN   \n",
       "Television                                                                                   NaN   \n",
       "Video games                                                                                  NaN   \n",
       "Music videos                                                                                 NaN   \n",
       "\n",
       "                                                                                          Career  \\\n",
       "                                                                                                   \n",
       "1999–2008: Beginnings                           Jordan worked as a child model for several co...   \n",
       "2009–2012: Friday Night Lights and Parenthood   Jordan in 2011 In 2009, Jordan began starring...   \n",
       "2013–present: Breakthrough                      In 2013, Jordan starred as shooting victim Os...   \n",
       "Sports ownership                                                                             NaN   \n",
       "Film                                                                                         NaN   \n",
       "Television                                                                                   NaN   \n",
       "Video games                                                                                  NaN   \n",
       "Music videos                                                                                 NaN   \n",
       "\n",
       "                                                                                   Personal life  \\\n",
       "                                                Jordan has resided in Los Angeles since 2006....   \n",
       "1999–2008: Beginnings                                                                        NaN   \n",
       "2009–2012: Friday Night Lights and Parenthood                                                NaN   \n",
       "2013–present: Breakthrough                                                                   NaN   \n",
       "Sports ownership                                In December 2022, Jordan was announced as par...   \n",
       "Film                                                                                         NaN   \n",
       "Television                                                                                   NaN   \n",
       "Video games                                                                                  NaN   \n",
       "Music videos                                                                                 NaN   \n",
       "\n",
       "                                                                                     Filmography  \\\n",
       "                                                Jordan at the 2019 Toronto International Film...   \n",
       "1999–2008: Beginnings                                                                        NaN   \n",
       "2009–2012: Friday Night Lights and Parenthood                                                NaN   \n",
       "2013–present: Breakthrough                                                                   NaN   \n",
       "Sports ownership                                                                             NaN   \n",
       "Film                                              Year  Title  Role  Notes   2001  Hardball  ...   \n",
       "Television                                        Year  Title  Role  Notes   1999  The Sopran...   \n",
       "Video games                                       Year  Title  Voice role  Notes   2011  Gear...   \n",
       "Music videos                                      Year  Title  Performer(s)  Album  Refs.   2...   \n",
       "\n",
       "                                                                          Awards and nominations  \\\n",
       "                                                  Year  Award  Category  Nominated work  Resu...   \n",
       "1999–2008: Beginnings                                                                        NaN   \n",
       "2009–2012: Friday Night Lights and Parenthood                                                NaN   \n",
       "2013–present: Breakthrough                                                                   NaN   \n",
       "Sports ownership                                                                             NaN   \n",
       "Film                                                                                         NaN   \n",
       "Television                                                                                   NaN   \n",
       "Video games                                                                                  NaN   \n",
       "Music videos                                                                                 NaN   \n",
       "\n",
       "                                                                                      References  \n",
       "                                                .mw-parser-output .reflist{font-size:90%;marg...  \n",
       "1999–2008: Beginnings                                                                        NaN  \n",
       "2009–2012: Friday Night Lights and Parenthood                                                NaN  \n",
       "2013–present: Breakthrough                                                                   NaN  \n",
       "Sports ownership                                                                             NaN  \n",
       "Film                                                                                         NaN  \n",
       "Television                                                                                   NaN  \n",
       "Video games                                                                                  NaN  \n",
       "Music videos                                                                                 NaN  "
      ]
     },
     "execution_count": 311,
     "metadata": {},
     "output_type": "execute_result"
    }
   ],
   "source": [
    "pd.DataFrame(txt_dict)"
   ]
  },
  {
   "cell_type": "code",
   "execution_count": 378,
   "metadata": {},
   "outputs": [],
   "source": [
    "def txt_crawler(soup):\n",
    "    txt_dict = {} \n",
    "    txt = ''\n",
    "    title = 'summary'\n",
    "    subtitle = ''\n",
    "    prev = soup.find('table')\n",
    "\n",
    "    while True:\n",
    "        next = prev.next_sibling\n",
    "        if next == None:\n",
    "            break\n",
    "        if (next.name == 'h2'):\n",
    "            if subtitle != '':\n",
    "                txt_dict[title].update({subtitle : txt})\n",
    "            else:\n",
    "                txt_dict[title] = {subtitle : txt}\n",
    "            title = next.get_text()\n",
    "            txt = ''\n",
    "            subtitle = ''\n",
    "        elif (next.name == 'h3'):\n",
    "            if subtitle != '':\n",
    "                txt_dict[title].update({subtitle : txt})\n",
    "            else:\n",
    "                txt_dict[title] = {subtitle : txt}\n",
    "            subtitle = next.get_text()\n",
    "            txt = ''\n",
    "        else:\n",
    "            txt += next.get_text().replace('\\n', ' ')\n",
    "        prev = next\n",
    "    \n",
    "    return txt_dict\n",
    "        \n",
    "    \n",
    "    \n",
    "def txt_maker(name_list):\n",
    "    results = {}\n",
    "    for i in name_list:\n",
    "        driver.refresh()\n",
    "        time.sleep(2)\n",
    "        try:\n",
    "            while True:\n",
    "                try:\n",
    "                    search = driver.find_element(By.XPATH,'//*[@id=\"searchInput\"]')\n",
    "                    \n",
    "                except:\n",
    "                    search = driver.find_element(By.XPATH,'//*[@id=\"searchform\"]/div/div/div[1]/input')\n",
    "                break\n",
    "        except:\n",
    "            pass\n",
    "            \n",
    "        time.sleep(2)\n",
    "        while True:\n",
    "            try:\n",
    "                search.send_keys(i)\n",
    "                break\n",
    "            except:\n",
    "                pass\n",
    "        time.sleep(2)\n",
    "        try:\n",
    "            while True:\n",
    "                try:\n",
    "                    search = driver.find_element(By.XPATH, '//*[@id=\"searchform\"]/button')\n",
    "                except:\n",
    "                    search = driver.find_element(By.XPATH, '//*[@id=\"searchform\"]/div/button')    \n",
    "                break\n",
    "        except:\n",
    "            pass\n",
    "        \n",
    "        search.click()                          \n",
    "        time.sleep(0.5)\n",
    "        \n",
    "        soup_ = BeautifulSoup(driver.page_source, 'lxml')\n",
    "        \n",
    "        results[i] = txt_crawler(soup_)\n",
    "        \n",
    "    return results"
   ]
  },
  {
   "cell_type": "code",
   "execution_count": 379,
   "metadata": {},
   "outputs": [],
   "source": [
    "driver = webdriver.Chrome()\n",
    "driver.get('https://en.wikipedia.org/wiki/Python_(programming_language)')\n",
    "\n",
    "rs = txt_maker(name_list)"
   ]
  },
  {
   "cell_type": "code",
   "execution_count": null,
   "metadata": {},
   "outputs": [],
   "source": [
    "try:\n",
    "    search = driver.find_element(By.XPATH,'//*[@id=\"searchInput\"]')\n",
    "                \n",
    "except:\n",
    "    search = driver.find_element(By.XPATH,'//*[@id=\"searchform\"]/div/div/div[1]/input')"
   ]
  },
  {
   "cell_type": "code",
   "execution_count": 313,
   "metadata": {},
   "outputs": [],
   "source": [
    "import json"
   ]
  },
  {
   "cell_type": "code",
   "execution_count": 316,
   "metadata": {},
   "outputs": [
    {
     "name": "stdout",
     "output_type": "stream",
     "text": [
      "{'summary': {'': \" Michael Bakari Jordan[1] (/bɑːˈkɑːri/ bah-KAR-ee; born February 9, 1987)[2] is an American actor. He is best known for his film roles as shooting victim Oscar Grant in the drama Fruitvale Station (2013), boxer Adonis Creed in Creed (2015), and Erik Killmonger in Black Panther (2018), all of which were written and directed by Ryan Coogler.[3][4][5][6] Jordan reprised his role of Creed in Creed II (2018) and Creed III (2023); the latter also marked his directorial debut. Jordan initially broke out in television, playing Wallace in the first season of the HBO crime drama series The Wire (2002). He went on to play Reggie Montgomery on the ABC soap opera All My Children (2003–2006) and Vince Howard in the NBC sports drama series Friday Night Lights (2009–2011). His other films include Chronicle (2012), That Awkward Moment (2014), Fantastic Four (2015), and Just Mercy (2019), in which he portrayed Bryan Stevenson. He has also starred in and produced the HBO film Fahrenheit 451 (2018), for which he was nominated for the Primetime Emmy Award for Outstanding Television Movie. Jordan was named one of the 100 most influential people in the world by Time magazine in 2020 and 2023.[7][8] Also in 2020, he was named People's Sexiest Man Alive,[9] and The New York Times ranked him 15th on its list of the 25 greatest actors of the 21st century.[10] Jordan is also a co-owner of English Premier League football club AFC Bournemouth.[11]   \"}, 'Early life': {'': ' Michael Bakari Jordan was born on February 9, 1987, in Santa Ana, California, [12] to Donna and Michael A. Jordan. He has an older sister and a younger brother.[13] His family lived in Santa Ana, CA for two years before moving to Newark, NJ where Jordan grew up. [12][14] He attended Newark Arts High School, where his mother worked as a teacher, and where he also played basketball.[15][16]  '}, 'Career': {'': ' ', '1999–2008: Beginnings': ' Jordan worked as a child model for several companies and brands, including Modell\\'s Sporting Goods and Toys \"R\" Us, before deciding to embark on a career as an actor.[17][18] He launched his career as a professional actor in 1999, when he appeared briefly in single episodes of the television series Cosby and The Sopranos.[14] His first principal film role followed in 2001 when he was featured in Hardball, which starred Keanu Reeves. In 2002, he gained more attention by playing the small but pivotal role of Wallace in the first season of HBO\\'s The Wire. In March 2003, he joined the cast of All My Children, replacing Chadwick Boseman, playing Reggie Montgomery, a troubled teenager, until June 2006 when Jordan was released from his contract.[19] Jordan\\'s other credits include guest starring appearances on CSI: Crime Scene Investigation,[20] Without a Trace and Cold Case. Thereafter, he had a lead role in the independent film Blackout and starred in The Assistants on The-N. In 2008, Jordan appeared in the music video \"Did You Wrong\" by R&B artist Pleasure P.  ', '2009–2012: Friday Night Lights and Parenthood': ' Jordan in 2011 In 2009, Jordan began starring in the NBC drama Friday Night Lights as quarterback Vince Howard, and lived in an apartment in Austin where the show was filmed.[21] He played the character for two seasons until the show ended in 2011.[22] In 2009, he guest-starred on Burn Notice in the episode \"Hot Spot\", playing a high school football player who got into a fight and is being hunted by a local gangster. In 2010, he was considered one of the 55 faces of the future by Nylon Magazine\\'s Young Hollywood Issue.[23][24] In 2010, he guest-starred in the Law & Order: Criminal Intent episode \"Inhumane Society\" as a boxer involved in a Michael Vick-inspired dog fighting scandal. That year, he landed a recurring role on the NBC show Parenthood playing Alex (Haddie Braverman\\'s love interest).[25] This marked his second collaboration with showrunner Jason Katims, who was in charge of Friday Night Lights. BuddyTV ranked him #80 on its list of \"TV\\'s Sexiest Men of 2011\".[26] Jordan voiced Jace in the Xbox 360 game Gears of War 3.[27] In 2012, Jordan appeared in the George Lucas-produced film Red Tails[28] and played lead character Steve Montgomery in Chronicle, a film about three teenaged boys who develop superhuman abilities.[29] He also guest-starred in an episode of House\\'s final season, playing a blind patient.[30]  ', '2013–present: Breakthrough': ' In 2013, Jordan starred as shooting victim Oscar Grant in Fruitvale Station, directed by Ryan Coogler. His performance garnered critical acclaim, with Todd McCarthy of The Hollywood Reporter stating that Jordan reminded him of \"a young Denzel Washington\".[31] Following his role in Fruitvale Station, Jordan was named an \"actor to watch\" by People and Variety.[32][33] Time magazine named him with Coogler one of 30 people under 30 who are changing the world, and he was also named one of 2013\\'s breakout stars by Entertainment Weekly and GQ.[34][35][36]  Jordan alongside Sylvester Stallone and Tessa Thompson promoting Creed in November 2015 In 2015, he starred as Johnny Storm, the Human Torch, in Fantastic Four.[37][38][39] The film was universally panned by critics, holding a 9% approval rating on Rotten Tomatoes, and was a bust at the box office.[40] However, later in 2015, Jordan rebounded with critical acclaim when he starred as Donnie Creed, the son of boxer Apollo Creed in the seventh Rocky film, Creed, his second collaboration with Coogler, which co-starred Sylvester Stallone.[41] Jordan prepared for his role as a boxer in Creed by undertaking one year of rigorous physical training and a stringent low-fat diet.[42] He did not have a body double during filming and was \"routinely bloodied, bruised, and dizzy\" when fighting scenes were being filmed.[42] In 2016, Jordan featured in the popular sports game NBA 2K17, portraying Justice Young, a teammate of the player in the game\\'s MyCareer mode. In October 2017, it was announced that Jordan was cast in a supporting role as Mark Reese in the upcoming Netflix superhero series Raising Dion.[43] In February 2018, Jordan starred as the villain Erik Killmonger in the Marvel Cinematic Universe (MCU) film Black Panther; this marked Jordan\\'s third collaboration with Coogler.[44] His performance in Black Panther received critical acclaim, with Dani Di Placido of Forbes stating that Jordan \"steals the show\", while Jason Guerrasio of Business Insider wrote that the actor \"plays a Killmonger fueled with hate and emptiness – we won\\'t give away why – but he also delivers it with a swagger that\\'s just a joy to watch ... the movie takes off more in story and viewing enjoyment whenever Jordan is on screen.\"[4][5] Later in 2018, Jordan starred in Fahrenheit 451 with Michael Shannon and Sofia Boutella. The television film was distributed on HBO by HBO Films.[45] That same year, Jordan reprised his role as boxer Donnie Creed in Creed II, a sequel to Creed (2015) and the eighth installment in the Rocky film series. Creed II was released in the United States by Metro-Goldwyn-Mayer on November 21, 2018. The film received generally positive reviews from critics and it went on to debut to $35.3 million in its opening weekend (a five-day total of $55.8 million), marking the biggest debut ever for a live-action release over Thanksgiving.[46][47] He also voices the character Julian Chase in Rooster Teeth\\'s animated series Gen:Lock, which he also co-produces through his production company, Outlier Society Productions since January 2019.[48] Jordan portrayed attorney Bryan Stevenson in a legal drama, Just Mercy, which he also co-produced. The film, based on a real-life story, was released in December 2019 to critical acclaim.[49][50] Jordan stars in Without Remorse, based on the book by Tom Clancy, as John Clark, a former Navy SEAL and director of the elite counterterrorism unit Rainbow Six. Originally planned for release on September 18, 2020, it was released on April 30, 2021 due to the COVID-19 pandemic.[51] Jordan reprised his MCU role as Erik \"Killmonger\" Stevens in two episodes of the first season of What If...? (2021), and in Black Panther: Wakanda Forever (2022),[52][53] and made a cameo appearance in Space Jam: A New Legacy (2021). He also starred in A Journal for Jordan (2021), directed by Denzel Washington, as a soldier who \"kept a journal full of poignant life lessons for their newborn son, Jordan, while deployed overseas.\"[54] Jordan made his directorial debut with Creed III, a sequel to Creed II, in addition to producing and reprising his starring role as boxer Adonis Creed. It was released on March 3, 2023.[11]  Upcoming projects He is slated to reteam with Coogler for the fourth time in Wrong Answer, a film based on the Atlanta Public Schools cheating scandal.[42] Jordan is also set to appear in a second remake of The Thomas Crown Affair.[55] Jordan is also set to appear in the vampire film Blood Brothers.[56] His production company Outlier Society signed a first look deal with Amazon,[57] and is also developing Val-Zod, an HBO Max series featuring a Black version of the DC Comics character Superman.[58] As of March 2022[update], Jordan will produce and star in the sequel of I Am Legend with Will Smith.[59]  '}, 'Personal life': {'': ' Jordan has resided in Los Angeles since 2006.[60] He grew up in a religious household and considers himself to be spiritual.[61] As of 2018[update], he lives with his parents in a Sherman Oaks home that he purchased.[62][63] Jordan is also a fan of anime, particularly Naruto: Shippuden and the Dragon Ball franchise.[64][65] Jordan grew up in Newark, New Jersey and is a lifelong fan of the New York Giants.[66] In November 2020, the actor began dating model Lori Harvey, daughter of comedian Steve Harvey.[67] In June 2022, it was announced that the couple had ended their relationship.[68]  ', 'Sports ownership': ' In December 2022, Jordan was announced as part-owner of English football club AFC Bournemouth. The club was taken over by the consortium group the Black Knights Football Club led by fellow American Businessman William Foley.[69] Jordan led the minority ownership group with Kosmos Founder Nullah Sarker.[70][71]  '}, 'Filmography': {'': ' Jordan at the 2019 Toronto International Film Festival ', 'Film': '   Year  Title  Role  Notes   2001  Hardball  Jamal     2007  Blackout  C.J.     2009  Pastor Brown  Tariq Brown     2012  Red Tails  Maurice \"Bumps\" Wilson     Chronicle  Steve Montgomery     Hotel Noir  Leon     2013  Fruitvale Station  Oscar Grant     Justice League: The Flashpoint Paradox  Victor Stone / Cyborg  Voice, direct-to-video   2014  That Awkward Moment  Mikey     2015  Fantastic Four  Johnny Storm / Human Torch     Creed  Adonis \"Donnie\" Creed     2018  Black Panther  Erik \"Killmonger\" Stevens     Kin  Male Cleaner  Cameo; also executive producer   Creed II  Adonis \"Donnie\" Creed     2019  Just Mercy  Bryan Stevenson  Also producer   2021  Without Remorse  John Clark  Also producer   Space Jam: A New Legacy  Himself  Cameo[72]   A Journal for Jordan  Charles Monroe King  Also producer   2022  Black Panther: Wakanda Forever  Erik \"Killmonger\" Stevens  Cameo   2023  Creed III  Adonis \"Donnie\" Creed  Also director and producer  ', 'Television': '   Year  Title  Role  Notes   1999  The Sopranos  Rideland Kid  Episode: \"Down Neck\"   Cosby  Mike  Episode: \"The Vesey Method\"   2002  The Wire  Wallace  12 episodes   2003–2006  All My Children  Reggie Porter Montgomery  59 episodes   2006  CSI: Crime Scene Investigation  Morris  Episode: \"Poppin\\' Tags\"   Without a Trace  Jesse Lewis  Episode: \"The Calm Before\"   2007  Cold Case  Michael Carter  Episode: \"Wunderkind\"   2009  Burn Notice  Corey Jensen  Episode: \"Hot Spot\"   Bones  Perry Wilson  Episode: \"The Plain in the Prodigy\"   The Assistants  Nate Warren  13 episodes   2009–2011  Friday Night Lights  Vince Howard  26 episodes   2010  Law & Order: Criminal Intent  Danny Ford  Episode: \"Inhumane Society\"   Lie to Me  Key  2 episodes   2010–2011  Parenthood  Alex  16 episodes   2012  House  Will Westwood  Episode: \"Love Is Blind\"   2014  The Boondocks  Pretty Boy Flizzy  Voice, episode: \"Pretty Boy Flizzy\"   2018  Fahrenheit 451  Guy Montag  Television film; also executive producer   2019–2021  Gen:Lock  Julian Chase  Voice, 16 episodes; also executive producer[73]   Raising Dion  Mark Warren  3 episodes; also executive producer   2021  Love, Death & Robots  Terence[74]  Voice/motion capture; episode: \"Life Hutch\"[75]   What If...?  Erik \"Killmonger\" Stevens  Voice, 2 episodes   2022  America the Beautiful  Narrator  Documentary series   2023  Saturday Night Live  Himself; host  Episode: \"Michael B. Jordan/Lil Baby\"  ', 'Video games': \"   Year  Title  Voice role  Notes   2011  Gears of War 3  Jace Stratton     2016  NBA 2K17  Justice Young / Himself  Host on MyCareer mode   2017  Wilson's Heart  Kurt Mosby     2018  Creed: Rise to Glory  Adonis Creed    \", 'Music videos': '   Year  Title  Performer(s)  Album  Refs.   2008  \"Did You Wrong\"  Pleasure P  The Introduction of Marcus Cooper     2017  \"Family Feud\"  Jay-Z featuring Beyoncé  4:44  [76]   2019  \"Whoa\"  Snoh Aalegra  Ugh, Those Feels Again  [77]  '}, 'Awards and nominations': {'': \"   Year  Award  Category  Nominated work  Result  Refs.   2005  Soap Opera Digest Award  Favorite Teen  All My Children  Nominated  [78]   NAACP Image Award  Outstanding Actor in a Daytime Drama Series  Nominated  [79]   2006  NAACP Image Award  Nominated  [80]   2007  Nominated  [81]   2008  Outstanding Literary Work – Debut Author  Homeroom Heroes  Nominated  [82]   2011  EWwy Awards  Best Supporting Actor in a Drama  Friday Night Lights  Nominated  [83]   2013  Detroit Film Critics Society  Best Breakthrough  Fruitvale Station  Nominated  [84]   Hollywood Film Awards  Hollywood Spotlight Award  Won  [85]   Gotham Awards  Breakthrough Actor  Won  [86]   National Board of Review of Motion Pictures  Breakthrough Actor  Won  [87]   Phoenix Film Critics Society  Breakthrough Performance on Camera  Nominated  [88]   Satellite Awards  Breakthrough Award Performance  Won  [89]   Santa Barbara International Film Festival  Virtuoso Award  Won  [90]   St. Louis Gateway Film Critics Association  Best Actor  Nominated  [91]   2014  Independent Spirit Awards  Best Male Lead  Nominated  [92]   Black Reel Awards  Outstanding Actor  Nominated  [93]   NAACP Image Award  Outstanding Actor in a Motion Picture  Nominated  [94]   2015  Golden Raspberry Awards  Worst Screen Combo(shared with Kate Mara, Miles Teller, and Jamie Bell)  Fantastic Four  Nominated     African-American Film Critics Association  Breakout Performance  Creed  Won     Boston Online Film Critics Association  Best Actor  Won     Austin Film Critics Association  Nominated  [95]   Las Vegas Film Critics Society  Nominated     Online Film Critics Society  Best Actor  Nominated     NAACP Image Awards  Outstanding Actor in a Motion Picture  Won     Black Reel Awards  Best Actor  Won     National Society of Film Critics  Best Actor  Won     Empire Awards  Best Actor  Nominated  [96]   MTV Movie Awards  Best Male Performance  Nominated  [97]   2016  Teen Choice Awards  Choice Movie Actor: Drama  Nominated     2018  Primetime Emmy Awards  Outstanding Television Movie  Fahrenheit 451  Nominated  [98]   Saturn Awards  Best Supporting Actor  Black Panther  Nominated  [99]   MTV Movie & TV Awards  Best Villain  Won  [100]   BET Awards  Best Actor  Nominated  [101]   Chicago Film Critics Association Awards  Best Supporting Actor  Nominated  [102]   Dallas–Fort Worth Film Critics Association  Best Supporting Actor  Nominated  [103]   San Francisco Film Critics Circle  Best Supporting Actor  Won  [104]   Seattle Film Critics Society  Nominated  [105]   Villain of the Year  Won   St. Louis Film Critics Association  Best Supporting Actor  Nominated  [106]   Teen Choice Awards  Choice Villain  Won  [107]   Toronto Film Critics Association Awards  Best Supporting Actor  Runner-up  [108]   Washington D.C. Area Film Critics Association Awards  Best Supporting Actor  Nominated  [109]   2019  Alliance of Women Film Journalists  Best Actor in a Supporting Role  Nominated  [110]   Santa Barbara International Film Festival  Cinema Vanguard Award  Honored  [111]   Black Reel Awards  Outstanding Supporting Actor  Nominated  [112]   Critics' Choice Awards  Best Supporting Actor  Nominated  [113]   Austin Film Critics Association  Best Supporting Actor  Nominated  [114]   Houston Film Critics Society  Nominated  [115]   London Film Critics' Circle  Best Supporting Actor of the Year  Nominated  [116]   Online Film Critics Society  Best Supporting Actor  Won  [117]   Screen Actors Guild Awards  Outstanding Performance by a Cast in a Motion Picture  Won  [118]   NAACP Image Awards  Outstanding Supporting Actor in a Motion Picture  Won  [119]   Outstanding Actor in a Television Movie, Limited-Seriesor Dramatic Special  Fahrenheit 451  Won  [120]   Producers Guild of America Awards  Best Streamed or Televised Movie  Won   2020  NAACP Image Awards  Outstanding Actor in a Motion Picture  Just Mercy  Won  [120]   2022  Children's and Family Emmy Awards  Outstanding Children's or Family Viewing Series  Raising Dion  Nominated  [121]  \"}, 'References': {'': ' .mw-parser-output .reflist{font-size:90%;margin-bottom:0.5em;list-style-type:decimal}.mw-parser-output .reflist .references{font-size:100%;margin-bottom:0;list-style-type:inherit}.mw-parser-output .reflist-columns-2{column-width:30em}.mw-parser-output .reflist-columns-3{column-width:25em}.mw-parser-output .reflist-columns{margin-top:0.3em}.mw-parser-output .reflist-columns ol{margin-top:0}.mw-parser-output .reflist-columns li{page-break-inside:avoid;break-inside:avoid-column}.mw-parser-output .reflist-upper-alpha{list-style-type:upper-alpha}.mw-parser-output .reflist-upper-roman{list-style-type:upper-roman}.mw-parser-output .reflist-lower-alpha{list-style-type:lower-alpha}.mw-parser-output .reflist-lower-greek{list-style-type:lower-greek}.mw-parser-output .reflist-lower-roman{list-style-type:lower-roman}  ^ 73 Questions With Michael B. Jordan. November 28, 2017.  Event occurs at 0:52. Archived from the original on February 21, 2020. Retrieved February 11, 2020 – via YouTube. Bakari. It\\'s Swahili, means \\'noble promise.\\'{{cite AV media}}:  CS1 maint: bot: original URL status unknown (link)  ^ \"Michael B. Jordan Biography (1987–)\". Biography.com. Archived from the original on July 16, 2020. Retrieved September 1, 2020.  ^ Barker, Andrew (November 18, 2015). \"Film Review: \\'Creed\\'\". Variety. Archived from the original on September 5, 2018. Retrieved February 23, 2018.  ^ Jump up to: a b Placido, Dani Di. \"\\'Black Panther\\' Review: Killmonger Steals The Show\". Forbes. Archived from the original on July 12, 2018. Retrieved February 21, 2018.  ^ Jump up to: a b \"\\'Black Panther\\' is the rare Marvel movie that makes you care about the villain – and Michael B. Jordan delivers an incredible performance\". Business Insider. February 14, 2018. Archived from the original on July 30, 2018. Retrieved February 21, 2018.  ^ \"The Ascent of \\'Black Panther\\' Director Ryan Coogler\". The Hollywood Reporter. Archived from the original on September 13, 2018. Retrieved February 18, 2018.  ^ \"Michael B. Jordan: The 100 Most Influential People of 2020\". Time. Archived from the original on September 24, 2020. Retrieved September 23, 2020.  ^ \"Time 100\". Time. April 13, 2023. Archived from the original on April 13, 2023. Retrieved April 13, 2023.  ^ \"Michael B. Jordan Is PEOPLE\\'s Sexiest Man Alive 2020: \\'The Women in My Family Are Proud of This One\\'\". People. Archived from the original on November 18, 2020. Retrieved November 18, 2020.  ^ Dargis, Manohla; Scott, A.O. (November 25, 2020). \"The 25 greatest actors of the 21st century (so far)\". The New York Times. Archived from the original on December 1, 2020. Retrieved December 14, 2020.  ^ Jump up to: a b Fleming, Mike Jr. (March 10, 2021). \"Michael B. Jordan Ready To Fight For New Title As Director Of \\'Creed III\\'; MGM Dates Film For Thanksgiving 2022\". Deadline. Archived from the original on March 10, 2021. Retrieved March 12, 2021.  ^ Jump up to: a b Bronner, Sasha (January 23, 2013). \"Michael B. Jordan, \\'Fruitvale\\' Star, Reveals His Early Tap Dancing Roots (Photos)\". HuffPost. Archived from the original on February 17, 2020. I was born in Orange County – in Santa Ana. My dad is from California. I was raised on the East Coast. My first two years were in California...  ^ Herzog, Laura (November 18, 2015). \"Creed star Michael B. Jordan gets key to hometown of Newark\". NJ Advance Media. Archived from the original on December 13, 2019. Retrieved August 14, 2018. Raised in Newark, Jordan studied drama at the public magnet Newark Arts High School, where his mother is still a teacher, city officials said and he has been married happily for 10 years to Danisha. Jordan has a sister, Jamila, and a younger brother, Khalid, who attended Howard University in 2010, where he played football.  ^ Jump up to: a b Politi, Steve (July 15, 2011). \"Politi: \\'Friday Night Lights\\' is over, but Newark\\'s Michael B. Jordan is just getting started\". NJ.com. Archived from the original on August 18, 2011. Retrieved August 3, 2011.  ^ Herzog, Laura (November 18, 2015). \"Creed star Michael B. Jordan gets key to hometown of Newark\". NJ Advance Media. Archived from the original on December 13, 2019. Retrieved August 14, 2018. Raised in Newark, Jordan studied drama at the public magnet Newark Arts High School, where his mother is still a teacher, city officials said and he has been married happily for 10 years to Danisha. Jordan has a sister, Jamila, and a younger brother, Khalid, who attended Howard University in 2010, where he played football.  ^ Friedman, Jackie (February 3, 2010). \"Tap-dancing, Howard-bound lineman Khalid Jordan first from Arts High to earn full athletic scholarship\". The Star-Ledger. Newark, New Jersey. Archived from the original on October 20, 2013. Retrieved June 16, 2013.  ^ Morales, Wilson (September 2002). \"On His Own\\xa0: An Interview with Michael B. Jordan\". blackfilm.com. Archived from the original on September 26, 2011. Retrieved August 4, 2011.  ^ Kaufman, Amy; Horn, John (January 22, 2013). \"Are they the Sundance Film Festival\\'s next finds?\". Los Angeles Times. Archived from the original on October 22, 2013. Retrieved June 16, 2013.  ^ Kroll, Dan J. (August 25, 2006). \"Jordan out, Reggie to remain \"missing\"\". Soapcentral. Archived from the original on February 2, 2014. Retrieved June 17, 2013.  ^ \"Photos/ CSI Guest Stars: Celebrity DNA – Michael B. Jordan\". E! Online. Archived from the original on January 21, 2023. Retrieved June 17, 2013.  ^ Koski, Genevieve (July 15, 2011). \"Interview Michael B. Jordan\". The A.V. Club. Archived from the original on July 18, 2011. Retrieved August 4, 2011.  ^ Ausiello, Michael (August 17, 2009). \"\\'Friday Night Lights\\' drafts Michael Jordan!\". Entertainment Weekly. Archived from the original on June 11, 2015. Retrieved June 17, 2013.  ^ \"Young Hollywood 2010 Preview\". April 20, 2010. Archived from the original on December 21, 2021. Retrieved August 5, 2011 – via Youtube.  ^ \"Nylon Magazine: Young Hollywood Issue\". The CR Journal. May 18, 2010. Archived from the original on September 7, 2018. Retrieved August 5, 2011.  ^ Keck, William (August 13, 2010). \"Friday Night Lights\\' Quarterback to Romance Parenthood Daughter\". TV Guide. Archived from the original on January 8, 2014. Retrieved June 17, 2013.  ^ \"TV\\'s 100 Sexiest Men of 2011\". BuddyTV. December 7, 2011. Archived from the original on April 22, 2018. Retrieved March 9, 2012.  ^ \"Michael B Jordan replaces Drake as Jace in Gears of War 3\". N4G.com. April 22, 2011. Archived from the original on January 8, 2014. Retrieved April 22, 2011.  ^ Clark, Krystal (April 6, 2009). \"George Lucas Finally Casts Red Tails\". ScreenCrave. Archived from the original on October 19, 2013. Retrieved June 17, 2013.  ^ \"\\'Chronicle\\' Trailer: Teens Become Superheroes\". The Huffington Post. October 19, 2011. Archived from the original on October 22, 2011. Retrieved October 23, 2011.  ^ Ng, Philiana (January 3, 2012). \"\\'Friday Night Lights\\' Actor Lands Guest Role on \\'House\\'\". The Hollywood Reporter. Archived from the original on January 10, 2012. Retrieved January 5, 2012.  ^ McCarthy, Todd (January 20, 2013). \"Fruitvale: Sundance Review\". The Hollywood Reporter. Archived from the original on November 3, 2013. Retrieved June 16, 2013.  ^ Jordan, Julie (October 10, 2013). \"People\\'s Ones to Watch: Andy Samberg, Sam Claflin & More Top This Year\\'s List\". People. Archived from the original on November 8, 2019. Retrieved October 5, 2019.  ^ Kaufman, Anthony (October 9, 2013). \"10 Actors to Watch: Michael B. Jordan Arrives With \\'Fruitvale Station\\'\". Variety. Archived from the original on October 11, 2013. Retrieved October 10, 2013.  ^ Begley, Sarah (December 5, 2013). \"These Are the 30 People Under 30 Changing the World\". Time. Archived from the original on October 27, 2016. Retrieved December 25, 2013.  ^ \"Breakout Stars of 2013 – Michael B. Jordan\". Entertainment Weekly. December 25, 2013. Archived from the original on December 28, 2013. Retrieved December 28, 2013.  ^ \"Michael B. Jordan: Breakout of the Year 2013\". GQ. December 2, 2013. Archived from the original on December 30, 2013. Retrieved December 29, 2013.  ^ \"Michael B. Jordan Signed On For \\'Fantastic Four\\'\". vibe. October 21, 2013. Archived from the original on July 2, 2015. Retrieved February 3, 2014.  ^ Kroll, Justin (February 19, 2014). \"\\'Fantastic Four\\' Cast Revealed\". Variety. Archived from the original on August 3, 2020. Retrieved February 20, 2014.  ^ \"Fox Looking To Dump Fantastic Four Director, Screenplay And Recast, Six Months Before They Are Due To Shoot\". Bleeding Cool. March 14, 2014. Archived from the original on March 15, 2014. Retrieved March 14, 2014.  ^ Fantastic Four, archived from the original on September 1, 2015, retrieved January 14, 2017  ^ \"Creed Movie – Michael B. Jordan and Sylvester Stallones – Spoiler Alert\". phillychitchat.com. Archived from the original on September 24, 2015. Retrieved February 24, 2015.  ^ Jump up to: a b c Buckley, Cara (October 28, 2015). \"Michael B. Jordan Gives Millennials Their \\'Rocky\\' With \\'Creed\\'\". The New York Times. ISSN\\xa00362-4331. Archived from the original on October 29, 2015. Retrieved October 29, 2015.  ^ Littleton, Cynthia (October 6, 2017). \"Netflix Gives Series Order to Michael B. Jordan\\'s Sci-Fi Family Drama \\'Raising Dion\\'\". Variety. Archived from the original on October 6, 2017. Retrieved February 12, 2019.  ^ Kit, Borys (May 13, 2016). \"Michael B. Jordan Joins Marvel\\'s \\'Black Panther\\'\". The Hollywood Reporter. Archived from the original on May 14, 2016. Retrieved May 13, 2016.  ^ Hipes, Patrick (April 19, 2017). \"Michael B. Jordan & Michael Shannon To Topline \\'Fahrenheit 451\\' Movie At HBO\". Deadline. Archived from the original on January 21, 2020. Retrieved July 20, 2017.  ^ Campbell, Christopher (November 18, 2018). \"Creed II First Reviews: A Solid, if Predictable, Sequel\". Rotten Tomatoes. Archived from the original on April 23, 2019. Retrieved November 16, 2018.  ^ \"Michael B. Jordan\\'s \\'Creed 2\\' KO\\'s Box Office With Record-Breaking $55M Debut\". Forbes. Archived from the original on November 25, 2018. Retrieved November 25, 2018.  ^ Spangler, Todd (May 21, 2018). \"\\'Black Panther\\' Star Michael B. Jordan to Lend Voice to Rooster Teeth\\'s \\'gen:Lock\\' Anime-Style Series\". Variety. Archived from the original on May 22, 2018. Retrieved May 22, 2018.  ^ Kroll, Justin (July 24, 2015). \"Broad Green Pictures Lands \\'Just Mercy\\' With Michael B. Jordan\". Variety. Archived from the original on February 6, 2016. Retrieved February 7, 2016.  ^ \"Warner Bros. Picks Up Michael B. Jordan Legal Drama \\'Just Mercy\\'\". The Hollywood Reporter. November 30, 2017. Archived from the original on July 16, 2019. Retrieved February 21, 2018.  ^ Couch, Aaron (February 4, 2019). \"Michael B. Jordan\\'s \\'Without Remorse\\' Sets 2020 Release Date\". The Hollywood Reporter. Archived from the original on May 13, 2021. Retrieved May 9, 2021.  ^ Jasper, Gavin (September 15, 2021). \"What If…? Episode 6 Review: Killmonger to the Rescue\". Den of Geek. Archived from the original on September 17, 2021. Retrieved October 2, 2021.  ^ Delicana, Ysmael (November 9, 2022). \"Why Did Erik Killmonger Appear in the Ancestral Plane in Wakanda Forever?\". Archived from the original on November 9, 2022. Retrieved November 11, 2022.  ^ Kroll, Justin (February 21, 2019). \"Michael B. Jordan to Star in Denzel Washington\\'s \\'Journal for Jordan\\'\". Archived from the original on February 22, 2019. Retrieved February 21, 2019.  ^ Kit, Borys (February 24, 2016). \"Michael B. Jordan, MGM to Remake \\'The Thomas Crown Affair\\'\". The Hollywood Reporter. Archived from the original on November 21, 2019. Retrieved March 12, 2016.  ^ \"Michael B. Jordan in Negotiations to Star in MGM\\'s Vampire Movie \\'Blood Brothers\\'\". TheWrap. August 28, 2015. Archived from the original on February 26, 2021. Retrieved April 6, 2021.  ^ \"Amazon And Outlier Society Sign First-Look Deal\". VideoAge International. Archived from the original on February 9, 2021. Retrieved February 9, 2021.  ^ Fleming, Mike Jr. (October 26, 2021). \"Michael B. Jordan\\'s \\'Val Zod\\' Superhero Project Lands Darnell Metayer & Josh Peters To Adapt For HBO Max\". Deadline Hollywood. Archived from the original on October 26, 2021. Retrieved January 21, 2022.  ^ D\\'Alessandro, Anthony (March 4, 2022). \"\\'I Am Legend\\' Next Chapter: Will Smith & Michael B. Jordan To Star & Produce Together For First Time; Akiva Goldsman Back To Write\". Deadline Hollywood. Archived from the original on March 9, 2022. Retrieved March 7, 2022.  ^ Mottram, James (January 3, 2016). \"Michael B Jordan: Star of Rocky sequel Creed on why he goes for roles written for white characters\". The Independent. Archived from the original on May 12, 2022. Retrieved February 7, 2016.  ^ Sangweni, Yolanda (May 10, 2014). \"Michael B. Jordan Answers Essence\\'s Questions on Faith and Spirituality\". Essence. Archived from the original on February 8, 2016. Retrieved February 7, 2016.  ^ \"The Heartwarming Reason Why Michael B. Jordan Lives with His Parents\". Flare. February 23, 2018. Archived from the original on May 1, 2021. Retrieved October 17, 2018.  ^ Berger, Sarah (February 20, 2018). \"Why 31-year-old \\'Black Panther\\' star Michael B. Jordan still lives with his parents\". CNBC. Archived from the original on October 18, 2018. Retrieved October 17, 2018.  ^ \"Michael B Jordan Goes Undercover on Twitter, YouTube and Reddit\". GQ. November 12, 2018.[dead YouTube link]  ^ Monique, Joelle (June 17, 2019). \"Michael B. Jordan Talks \\'gen:LOCK\\' and His Love of Anime: \"I\\'ve Cried Little Man Tears\"\". The Hollywood Reporter. Archived from the original on May 9, 2021. Retrieved May 9, 2021.  ^ \"Michael B. Jordan joins The Eli Manning Show\". www.giants.com. Archived from the original on March 8, 2023. Retrieved April 18, 2023.  ^ \"Michael B. Jordan Throw GF Lori Harvey a Surprise Birthday Party\". Us Weekly. January 12, 2022. Archived from the original on January 22, 2022. Retrieved January 16, 2022.  ^ VanHoose, Benjamin (June 4, 2022). \"Michael B. Jordan, Lori Harvey Break Up After Over 1 Year: \\'Both Completely Heartbroken,\\' Says Source\". people.com. Archived from the original on June 5, 2022. Retrieved June 5, 2022.  ^ \"Michael B. Jordan joins B\\'mouth ownership group\". December 13, 2022. Archived from the original on January 21, 2023. Retrieved December 14, 2022.  ^ \"Partnership Led by William P. Foley, II and Cannae Holdings, Inc. Announces Completion of the Acquisition of A.F.C. Bournemouth\". www.yahoo.com. Archived from the original on February 22, 2023. Retrieved April 18, 2023.  ^ Tanswell, Ahmed Shooble and Jacob. \"Bill Foley\\'s plans for Bournemouth: A multi-club model, feeder clubs and Michael B. Jordan\\'s role\". The Athletic. Archived from the original on March 21, 2023. Retrieved April 18, 2023.  ^ \"\\'Space Jam\\' Stars Don Cheadle and Cedric Joe Didn\\'t Know Michael B. Jordan Would be in the Movie (Exclusive) | Entertainment Tonight\". www.etonline.com. June 30, 2021. Archived from the original on July 5, 2021. Retrieved July 6, 2021.  ^ \"\\'Black Panther\\'s\\' Michael B. Jordan To Star In Rooster Teeth Animated Series \\'gen:LOCK\\'\". Deadline Hollywood. Penske Media Corporation. May 21, 2018. Archived from the original on May 22, 2018. Retrieved May 22, 2018.  ^ \"Netflix drops surprise trailer for Love, Death & Robots Vol. 2\". TechRadar. Future US. April 19, 2021. Archived from the original on April 21, 2021. Retrieved April 21, 2021.  ^ \"\\'Love, Death + Robots Volume 2\\' Features More Weird Aliens, Naked Giants, And Michael B. Jordan\". Mashable. April 20, 2021. Archived from the original on April 20, 2021. Retrieved April 21, 2021.  ^ Aswad, Jem (December 29, 2017). \"Jay-Z Drops Beyonce-Starring Video for \\'Family Feud\\'\". Variety. Archived from the original on December 31, 2017. Retrieved December 30, 2017.  ^ Jackson, Vannessa (December 13, 2019). \"Michael B. Jordan Seemingly Confirms Snoh Aalegra Romance With Steamy \"Whoa\" Music Video\". E! Online. Archived from the original on February 16, 2020. Retrieved April 28, 2020.  ^ \"The Soap Opera Digest Awards: 2005\". Soap Opera Digest. soapoperadigest.com. April 2005. Archived from the original on February 25, 2008. Retrieved November 12, 2015.  ^ \"Friday Night Lights – Cast bios: Michael B. Jordan\". nbc.com. Archived from the original on August 8, 2011. Retrieved August 5, 2011.  ^ \"37th Annual NAACP Image Award Winners, 2006\". BlackFlix.com. Archived from the original on September 5, 2014. Retrieved August 5, 2011.  ^ \"The 38th NAACP Image Award Takes Place with Superstar Entertainer LL Cool as Host\" (PDF). naacpimageawards.net. National Association for the Advancement of Colored People. March 15, 2007. Archived from the original (PDF) on May 19, 2010. Retrieved May 17, 2010.  ^ \"Michael B. Jordan: The Ascension of A Star\". BleuMagazine. July 13, 2011. Archived from the original on July 22, 2012. Retrieved August 5, 2011.  ^ \"EWwy Awards 2011: Best Supporting Actor Winner\". Entertainment Weekly. October 11, 2011. Archived from the original on December 28, 2014. Retrieved October 23, 2011.  ^ Long, Tom (December 9, 2013). \"Detroit Film Critics Society nominates top films\". The Detroit News. Archived from the original on December 13, 2013. Retrieved December 10, 2013.  ^ Feinberg, Scott (October 9, 2013). \"Hollywood Film Awards to Honor Michael B. Jordan, Sophie Nelisse and David Oyelowo\". The Hollywood Reporter. Archived from the original on November 14, 2017. Retrieved October 19, 2013.  ^ Pond, Steve (October 24, 2013). \"\\'12 Years a Slave\\' Leads Gotham Awards Nominations\". The Wrap. Archived from the original on October 27, 2013. Retrieved October 24, 2013.  ^ \"National Board of Review Announces 2013 Award Winners\". The National Board of Review. December 4, 2013. Archived from the original on June 24, 2014. Retrieved December 5, 2013.  ^ Adams, Ryan (December 10, 2013). \"Phoenix Film Critics Society nominations\". AwardsDaily. Archived from the original on December 14, 2013. Retrieved December 14, 2013.  ^ Kilday, Gregg (December 2, 2013). \"Satellite Awards: \\'12 Years a Slave\\' Leads Film Nominees\". The Hollywood Reporter. Archived from the original on February 27, 2014. Retrieved December 2, 2013.  ^ Pond, Steve (December 8, 2013). \"Oscar Isaac, Michael B. Jordan and Brie Larson Among Santa Barbara Fest\\'s New Honorees\". The Wrap. Archived from the original on December 14, 2013. Retrieved December 14, 2013.  ^ Venhaus, Lynn (December 9, 2013). \"St. Louis Film Critics choose their award nominees\". Belleville News-Democrat. Archived from the original on December 13, 2013. Retrieved December 9, 2013.  ^ Tatko-Peterson, Ann (November 26, 2013). \"Spirit Awards: \\'12 Years a Slave\\' leads nominations, \\'Fruitvale Station\\' in mix\". San Jose Mercury News. Archived from the original on December 3, 2013. Retrieved November 29, 2013.  ^ \"The 14th Annual Black Reel Awards Nominations\". Blackreelawards.wordpress.com. December 18, 2013. Archived from the original on November 22, 2018. Retrieved December 22, 2013.  ^ Rodriguez, Briana (January 9, 2014). \"\\'Lee Daniels\\' The Butler\\' and \\'Scandal\\' Lead NAACP\\'s Image Award Noms\". Backstage. Archived from the original on January 11, 2014. Retrieved January 12, 2014.  ^ \"Austin Film Critics Association (AFCA) Nominations – Winners on Page 2\". awardswatch.com. Archived from the original on September 13, 2017. Retrieved December 31, 2015.  ^ Nugent, John (February 18, 2016). \"Jameson Empire Awards 2016: Star Wars and Mad Max lead the nominations\". Empire. Archived from the original on March 5, 2016. Retrieved April 17, 2020.  ^ \"2016 MTV Movie Award Winners: See The Full List\". MTV (MTV News). Archived from the original on May 20, 2016. Retrieved April 11, 2016.  ^ \"Michael B. Jordan\". emmys.com. Academy of Television Arts & Sciences. Archived from the original on September 19, 2020. Retrieved April 14, 2020.  ^ McNary, Dave (March 15, 2018). \"\\'Black Panther,\\' \\'Walking Dead\\' Rule Saturn Awards Nominations\". Variety. Archived from the original on March 16, 2018. Retrieved March 15, 2018.  ^ Hall, Gerald (May 3, 2018). \"Black Panther, Stranger Things lead MTV Movie & TV Awards nominations\". EW. Archived from the original on January 22, 2021. Retrieved May 3, 2018.  ^ Ramos, Dino-Ray; N\\'Duka, Amanda (June 26, 2018). \"BET Awards: \\'Black Panther\\', Tiffany Haddish, Chadwick Boseman Take Top Honors – Full Winners List\". Deadline Hollywood. Archived from the original on June 27, 2018. Retrieved June 26, 2018.  ^ \"\"Roma,\" \"The Favourite\" and \"A Star is Born\" lead 2018 CFCA nominations\". Chicago Film Critics Association. December 8, 2018. Archived from the original on December 9, 2018. Retrieved December 8, 2018.  ^ Jorgenson, Todd (December 17, 2018). \"DFW Film Critics Name \"A Star Is Born\" Best Picture of 2018\". Dallas–Fort Worth Film Critics Association. Archived from the original on March 24, 2019. Retrieved December 17, 2018.  ^ \"2018 San Francisco Film Critics Circle Awards\". San Francisco Film Critics Circle. December 8, 2018. Archived from the original on December 9, 2018. Retrieved December 8, 2018.  ^ \"\"Roma\" Named Best Picture of 2018 By Seattle Film Critics Society\". Seattle Film Critics Society. December 17, 2018. Archived from the original on December 17, 2018. Retrieved December 17, 2018.  ^ \"2018 StLFCA Annual Award Winners\". St. Louis Film Critics Association. December 9, 2018. Archived from the original on December 15, 2015. Retrieved December 17, 2018.  ^ \"Teen Choice Awards: Winners List\". The Hollywood Reporter. August 12, 2018. Archived from the original on August 13, 2018. Retrieved August 12, 2018.  ^ \"Toronto Film Critics Association Announces 2018 Awards\". Toronto Film Critics Association. December 10, 2018. Archived from the original on December 11, 2018. Retrieved December 10, 2018.  ^ \"2018 WAFCA Awards Winners\". Washington D.C. Area Film Critics Association. December 3, 2018. Archived from the original on October 17, 2018. Retrieved December 3, 2018.  ^ \"2018 EDA Award Nominees\". Alliance of Women Film Journalists. December 20, 2018. Archived from the original on December 21, 2018. Retrieved December 20, 2018.  ^ McNary, Dave (December 7, 2018). \"Santa Barbara Festival to Honor Michael B. Jordan for \\'Black Panther,\\' \\'Creed II\\'\". Variety. Archived from the original on December 8, 2018. Retrieved December 7, 2018.  ^ \"Black Panther \"Roars!\"\". Black Reel Awards. December 13, 2018. Archived from the original on April 26, 2019. Retrieved December 13, 2018.  ^ Tapley, Kristopher (December 10, 2018). \"\\'The Favourite,\\' \\'Black Panther,\\' \\'First Man\\' Lead Critics\\' Choice Movie Nominations\". Variety. Archived from the original on November 2, 2019. Retrieved December 10, 2018.  ^ Whittaker, Richard (December 28, 2018). \"Austin Film Critics Release 2018 Awards Nominee Lists\". The Austin Chronicle. Archived from the original on December 29, 2018. Retrieved December 28, 2018.  ^ Vonder Haar, Pete (December 17, 2018). \"Houston Film Critics Society Announces 2018 Awards Nominations\". Houston Press. Archived from the original on December 18, 2018. Retrieved December 17, 2018.  ^ Lodge, Guy (December 18, 2018). \"\\'The Favourite\\' Leads London Critics\\' Circle Nominations\". Variety. Archived from the original on January 15, 2021. Retrieved December 18, 2018.  ^ Petski, Denise (December 26, 2018). \"\\'The Favourite\\' Leads Online Film Critics Society Nominations With 8; \\'Roma\\' & \\'Beale Street\\' Follow\". Deadline Hollywood. Archived from the original on December 26, 2018. Retrieved December 26, 2018.  ^ Hipes, Patrick (December 12, 2018). \"SAG Awards Nominations: \\'A Star Is Born\\', \\'Mrs. Maisel\\', \\'Ozark\\' Lead Way – The Full List\". Deadline Hollywood. Archived from the original on December 13, 2018. Retrieved December 12, 2018.  ^ N\\'Duka, Anita; Bennett, Amanda (March 31, 2019). \"Beyoncé Nabs Entertainer Of The Year, \\'Black Panther\\', \\'Black-Ish\\' Among Top Winners At 50th NAACP Image Awards\". Deadline. Archived from the original on January 15, 2021. Retrieved February 27, 2023.  ^ Jump up to: a b \"Michael B. Jordan\". IMDb. Archived from the original on March 8, 2023. Retrieved February 27, 2023.  ^ \"NATAS announces nominations for first annual Children\\'s & Family Emmys\" (PDF). National Academy of Television Arts and Sciences. November 10, 2022. Archived (PDF) from the original on November 12, 2022. Retrieved November 21, 2022.   '}}\n"
     ]
    }
   ],
   "source": [
    "# with open('txt_dict.json', 'w') as file:\n",
    "#     json.dump(txt_dict, file)\n",
    "\n",
    "# # # 파일에서 dictionary 불러오기\n",
    "# with open('txt_dict.json', 'r') as file:\n",
    "#     loaded_dict = json.load(file)\n",
    "\n",
    "# print(loaded_dict)"
   ]
  }
 ],
 "metadata": {
  "kernelspec": {
   "display_name": "base",
   "language": "python",
   "name": "python3"
  },
  "language_info": {
   "codemirror_mode": {
    "name": "ipython",
    "version": 3
   },
   "file_extension": ".py",
   "mimetype": "text/x-python",
   "name": "python",
   "nbconvert_exporter": "python",
   "pygments_lexer": "ipython3",
   "version": "3.8.16"
  }
 },
 "nbformat": 4,
 "nbformat_minor": 2
}
