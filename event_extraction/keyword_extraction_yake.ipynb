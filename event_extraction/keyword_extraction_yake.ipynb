{
 "cells": [
  {
   "cell_type": "code",
   "execution_count": 1,
   "metadata": {},
   "outputs": [
    {
     "name": "stdout",
     "output_type": "stream",
     "text": [
      "Requirement already satisfied: yake in c:\\users\\inny9\\anaconda3\\envs\\ybenv\\lib\\site-packages (0.4.8)Note: you may need to restart the kernel to use updated packages.\n",
      "\n",
      "Requirement already satisfied: tabulate in c:\\users\\inny9\\anaconda3\\envs\\ybenv\\lib\\site-packages (from yake) (0.9.0)\n",
      "Requirement already satisfied: click>=6.0 in c:\\users\\inny9\\anaconda3\\envs\\ybenv\\lib\\site-packages (from yake) (8.1.6)\n",
      "Requirement already satisfied: numpy in c:\\users\\inny9\\anaconda3\\envs\\ybenv\\lib\\site-packages (from yake) (1.25.0)\n",
      "Requirement already satisfied: segtok in c:\\users\\inny9\\anaconda3\\envs\\ybenv\\lib\\site-packages (from yake) (1.5.11)\n",
      "Requirement already satisfied: networkx in c:\\users\\inny9\\anaconda3\\envs\\ybenv\\lib\\site-packages (from yake) (3.1)\n",
      "Requirement already satisfied: jellyfish in c:\\users\\inny9\\anaconda3\\envs\\ybenv\\lib\\site-packages (from yake) (1.0.0)\n",
      "Requirement already satisfied: colorama in c:\\users\\inny9\\anaconda3\\envs\\ybenv\\lib\\site-packages (from click>=6.0->yake) (0.4.6)\n",
      "Requirement already satisfied: regex in c:\\users\\inny9\\anaconda3\\envs\\ybenv\\lib\\site-packages (from segtok->yake) (2023.8.8)\n"
     ]
    }
   ],
   "source": [
    "pip install yake\n"
   ]
  },
  {
   "cell_type": "code",
   "execution_count": 2,
   "metadata": {},
   "outputs": [
    {
     "name": "stdout",
     "output_type": "stream",
     "text": [
      "Keywords for text: 'In March 1911, Churchill introduced the second reading of the Coal Mines Bill in parliament. When implemented, it imposed stricter safety standards at coal mines.[143] He also formulated the Shops Bill to improve the working conditions of shop workers; it faced opposition from shop owners and only passed into law in a much emasculated form.[144] In April, Lloyd George introduced the first health and unemployment insurance legislation, the National Insurance Act 1911, which Churchill had been instrumental in drafting.[144] In May, Clementine gave birth to their second child, Randolph, named after Churchill's father.[145] In response to escalating civil strife in 1911, Churchill sent troops into Liverpool to quell protesting dockers and rallied against a national railway strike.[146]'\n",
      "Coal Mines Bill (Score: 0.0010)\n",
      "Lloyd George introduced (Score: 0.0052)\n",
      "Mines Bill (Score: 0.0069)\n",
      "\n",
      "\n",
      "Keywords for text: 'In March 1911, Churchill introduced the second reading of the Coal Mines Bill in parliament'\n",
      "Coal Mines Bill (Score: 0.0006)\n",
      "Coal Mines (Score: 0.0074)\n",
      "Mines Bill (Score: 0.0074)\n",
      "\n",
      "\n",
      "model running time:  0.083166838 "
     ]
    }
   ],
   "source": [
    "import yake\n",
    "from time import time\n",
    "\n",
    "language = \"en\"\n",
    "max_ngram_size = 3\n",
    "deduplication_threshold = 0.9\n",
    "deduplication_algo = 'seqm'\n",
    "windowSize = 1\n",
    "numOfKeywords = 3\n",
    "\n",
    "all_elements = [\n",
    "    \"In March 1911, Churchill introduced the second reading of the Coal Mines Bill in parliament. When implemented, it imposed stricter safety standards at coal mines.[143] He also formulated the Shops Bill to improve the working conditions of shop workers; it faced opposition from shop owners and only passed into law in a much emasculated form.[144] In April, Lloyd George introduced the first health and unemployment insurance legislation, the National Insurance Act 1911, which Churchill had been instrumental in drafting.[144] In May, Clementine gave birth to their second child, Randolph, named after Churchill's father.[145] In response to escalating civil strife in 1911, Churchill sent troops into Liverpool to quell protesting dockers and rallied against a national railway strike.[146]\",\n",
    "    \"In March 1911, Churchill introduced the second reading of the Coal Mines Bill in parliament\"\n",
    "    ]\n",
    "\n",
    "start_time = time()\n",
    "\n",
    "for text in all_elements:\n",
    "    custom_kw_extractor = yake.KeywordExtractor(lan=language,\n",
    "                                                n=max_ngram_size,\n",
    "                                                dedupLim=deduplication_threshold,\n",
    "                                                dedupFunc=deduplication_algo,\n",
    "                                                windowsSize=windowSize,\n",
    "                                                top=numOfKeywords,\n",
    "                                                features=None)\n",
    "    keywords = custom_kw_extractor.extract_keywords(text)\n",
    "\n",
    "    print(f\"Keywords for text: '{text}'\")\n",
    "    for kw, score in keywords:  # lower the score, more relevant the keyword\n",
    "        print(f\"{kw} (Score: {score:.4f})\")\n",
    "    print(\"\\n\")\n",
    "\n",
    "end_time = time()\n",
    "running_time = end_time - start_time\n",
    "\n",
    "print(\"model running time: %s \" % f\"{running_time:12.9f}\", end=\"\")"
   ]
  },
  {
   "cell_type": "code",
   "execution_count": null,
   "metadata": {},
   "outputs": [],
   "source": []
  }
 ],
 "metadata": {
  "kernelspec": {
   "display_name": "ybenv",
   "language": "python",
   "name": "python3"
  },
  "language_info": {
   "codemirror_mode": {
    "name": "ipython",
    "version": 3
   },
   "file_extension": ".py",
   "mimetype": "text/x-python",
   "name": "python",
   "nbconvert_exporter": "python",
   "pygments_lexer": "ipython3",
   "version": "3.9.17"
  }
 },
 "nbformat": 4,
 "nbformat_minor": 2
}
