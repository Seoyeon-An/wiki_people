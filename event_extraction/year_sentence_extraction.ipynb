{
 "cells": [
  {
   "cell_type": "code",
   "execution_count": 1,
   "metadata": {},
   "outputs": [],
   "source": [
    "import pandas as pd\n",
    "import numpy as np\n",
    "import json\n",
    "import re"
   ]
  },
  {
   "cell_type": "code",
   "execution_count": 49,
   "metadata": {},
   "outputs": [],
   "source": [
    "with open('C:/Users/user/Desktop/wiki_people/wiki_crawling/txt_dict.json', 'r') as file:\n",
    "    txt1 = json.load(file)\n",
    "    \n",
    "with open('C:/Users/user/Desktop/wiki_people/wiki_crawling/txt_dict_2.json', 'r') as file:\n",
    "    txt2 = json.load(file)"
   ]
  },
  {
   "cell_type": "code",
   "execution_count": null,
   "metadata": {},
   "outputs": [],
   "source": [
    "txt1['Doja Cat']['Early life']['']"
   ]
  },
  {
   "cell_type": "code",
   "execution_count": 4,
   "metadata": {},
   "outputs": [],
   "source": [
    "from nltk import sent_tokenize"
   ]
  },
  {
   "cell_type": "code",
   "execution_count": null,
   "metadata": {},
   "outputs": [],
   "source": [
    "sent_tokenize(txt1['Doja Cat']['Early life'][''])"
   ]
  },
  {
   "cell_type": "code",
   "execution_count": 6,
   "metadata": {},
   "outputs": [],
   "source": [
    "def year_extraction(sentence_list):\n",
    "    year_sentence_list = []\n",
    "    \n",
    "    for x in sentence_list:\n",
    "        if re.search(r'\\b\\d{4}\\b', x):\n",
    "            year_sentence_list += [x]\n",
    "            \n",
    "    return year_sentence_list"
   ]
  },
  {
   "cell_type": "code",
   "execution_count": 68,
   "metadata": {},
   "outputs": [],
   "source": [
    "import copy\n",
    "\n",
    "txt1_dup = copy.deepcopy(txt1)\n",
    "txt2_dup = copy.deepcopy(txt2)"
   ]
  },
  {
   "cell_type": "code",
   "execution_count": 69,
   "metadata": {},
   "outputs": [],
   "source": [
    "err_lst = []\n",
    "\n",
    "for k1, v1 in txt1_dup.items():\n",
    "    for k2, v2 in v1.items():\n",
    "        if type(v2)==str:\n",
    "            v1[k2] = year_extraction(sent_tokenize(v2))\n",
    "        else:\n",
    "            for k3, v3 in v2.items():\n",
    "                try:\n",
    "                    v2[k3] = year_extraction(sent_tokenize(v3))\n",
    "                except:\n",
    "                    err_lst += [k1, k2, k3, v3]"
   ]
  },
  {
   "cell_type": "code",
   "execution_count": 70,
   "metadata": {},
   "outputs": [
    {
     "data": {
      "text/plain": [
       "[]"
      ]
     },
     "execution_count": 70,
     "metadata": {},
     "output_type": "execute_result"
    }
   ],
   "source": [
    "err_lst"
   ]
  },
  {
   "cell_type": "code",
   "execution_count": 71,
   "metadata": {},
   "outputs": [],
   "source": [
    "err_lst2 = []\n",
    "\n",
    "for k1, v1 in txt2_dup.items():\n",
    "    for k2, v2 in v1.items():\n",
    "        if type(v2)==str:\n",
    "            v1[k2] = year_extraction(sent_tokenize(v2))\n",
    "        else:\n",
    "            for k3, v3 in v2.items():\n",
    "                try:\n",
    "                    v2[k3] = year_extraction(sent_tokenize(v3))\n",
    "                except:\n",
    "                    err_lst2 += [k1, k2, k3, v3]"
   ]
  },
  {
   "cell_type": "code",
   "execution_count": 72,
   "metadata": {},
   "outputs": [
    {
     "data": {
      "text/plain": [
       "[]"
      ]
     },
     "execution_count": 72,
     "metadata": {},
     "output_type": "execute_result"
    }
   ],
   "source": [
    "err_lst2"
   ]
  },
  {
   "cell_type": "code",
   "execution_count": null,
   "metadata": {},
   "outputs": [],
   "source": [
    "with open('txt1_years_dict.json', 'w') as file:\n",
    "    json.dump(txt1_dup, file)\n",
    "    \n",
    "with open('txt2_years_dict.json', 'w') as file:\n",
    "    json.dump(txt2_dup, file)"
   ]
  }
 ],
 "metadata": {
  "kernelspec": {
   "display_name": "base",
   "language": "python",
   "name": "python3"
  },
  "language_info": {
   "codemirror_mode": {
    "name": "ipython",
    "version": 3
   },
   "file_extension": ".py",
   "mimetype": "text/x-python",
   "name": "python",
   "nbconvert_exporter": "python",
   "pygments_lexer": "ipython3",
   "version": "3.8.16"
  }
 },
 "nbformat": 4,
 "nbformat_minor": 2
}
